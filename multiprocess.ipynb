{
 "cells": [
  {
   "cell_type": "code",
   "execution_count": 1,
   "id": "44d109cd",
   "metadata": {},
   "outputs": [],
   "source": [
    "import tensorflow as tf\n",
    "from tensorflow import keras\n",
    "from tensorflow.keras import layers\n",
    "import multiprocessing as mp\n",
    "import pandas as pd\n",
    "import numpy as np\n",
    "from functools import partial\n",
    "import random\n",
    "\n",
    "from helper_functions import *"
   ]
  },
  {
   "cell_type": "code",
   "execution_count": 9,
   "id": "11b5fd84",
   "metadata": {},
   "outputs": [],
   "source": [
    "HORIZON = 1\n",
    "WINDOW = 15\n",
    "train = pd.read_csv('train.csv')\n",
    "df = train[train['cfips'] == 1001]\n",
    "\n",
    "windows, labels = make_windows(df['microbusiness_density'].values, window_size=WINDOW, horizon=HORIZON)\n",
    "# Split trin and test set\n",
    "train_windows, test_windows, train_labels, test_labels = make_train_test_split(windows, labels, split_size=8)"
   ]
  },
  {
   "cell_type": "code",
   "execution_count": 10,
   "id": "2e5ed2fb",
   "metadata": {},
   "outputs": [
    {
     "data": {
      "text/plain": [
       "(16, 8, 16, 8)"
      ]
     },
     "execution_count": 10,
     "metadata": {},
     "output_type": "execute_result"
    }
   ],
   "source": [
    "len(train_windows), len(test_windows), len(train_labels), len(test_labels)"
   ]
  },
  {
   "cell_type": "code",
   "execution_count": 11,
   "id": "24392505",
   "metadata": {},
   "outputs": [
    {
     "data": {
      "text/plain": [
       "array([[3.3367846],\n",
       "       [3.372082 ],\n",
       "       [3.3132529],\n",
       "       [3.3461974],\n",
       "       [3.4379706],\n",
       "       [3.4238517],\n",
       "       [3.442677 ],\n",
       "       [3.4638555]])"
      ]
     },
     "execution_count": 11,
     "metadata": {},
     "output_type": "execute_result"
    }
   ],
   "source": [
    "test_labels"
   ]
  },
  {
   "cell_type": "code",
   "execution_count": 17,
   "id": "8a296cc5",
   "metadata": {},
   "outputs": [
    {
     "data": {
      "text/plain": [
       "array([1001, 1003, 1005, 1007, 1009, 1011, 1013, 1015, 1017, 1019, 1021],\n",
       "      dtype=int64)"
      ]
     },
     "execution_count": 17,
     "metadata": {},
     "output_type": "execute_result"
    }
   ],
   "source": [
    "IDS[:10]"
   ]
  },
  {
   "cell_type": "code",
   "execution_count": 38,
   "id": "347073ea",
   "metadata": {},
   "outputs": [
    {
     "name": "stdout",
     "output_type": "stream",
     "text": [
      "CPU times: total: 219 ms\n",
      "Wall time: 19.6 s\n"
     ]
    }
   ],
   "source": [
    "%%time\n",
    "if __name__ == '__main__':\n",
    "    HORIZON = 8\n",
    "    WINDOW_SIZE = 8\n",
    "\n",
    "    train = pd.read_csv('train.csv')\n",
    "    IDS = train.cfips.unique()\n",
    "\n",
    "    x_train = np.arange(39).reshape((-1,1))\n",
    "    x_test = np.arange(31,39).reshape((-1,1))\n",
    "    #random_ids = random.sample(list(IDS), 10)\n",
    "    random_ids = IDS[:10]\n",
    "    window_size = WINDOW_SIZE\n",
    "    horizon = HORIZON\n",
    "    epoch = 300\n",
    "    split_size = 1\n",
    "    \n",
    "    cfips_list = []\n",
    "    mapes = []\n",
    "    density_values = []\n",
    "    active_size = []\n",
    "    forecasts = []\n",
    "\n",
    "    pool = mp.Pool(16)\n",
    "\n",
    "    func = partial(train_get_result, train, window_size, horizon, epoch, split_size)\n",
    "    results = pool.map(func, random_ids)\n",
    "    pool.close()\n",
    "    pool.join()\n",
    "    \n",
    "    # Create DataFrame\n",
    "    for i in range(len(results)):\n",
    "        c = results[i][0]\n",
    "        cfips_list.append(c)\n",
    "        last_density = results[i][1]\n",
    "        density_values.append(last_density)\n",
    "        last_active = results[i][2]\n",
    "        active_size.append(last_active)\n",
    "        mape = results[i][3]\n",
    "        mapes.append(mape)\n",
    "        preds = results[i][4]\n",
    "        x = np.array(preds).reshape((-1))\n",
    "        preds = x.astype(np.float64)\n",
    "        forecasts.append(preds)\n",
    "    \n",
    "    result_df = pd.DataFrame({'Country': cfips_list,\n",
    "                             'MAPE': mapes,\n",
    "                             \"Density\": density_values,\n",
    "                             'Active': active_size,\n",
    "                             'forecast': forecasts})"
   ]
  },
  {
   "cell_type": "code",
   "execution_count": 39,
   "id": "9b1e00bc",
   "metadata": {},
   "outputs": [
    {
     "name": "stdout",
     "output_type": "stream",
     "text": [
      "<class 'pandas.core.frame.DataFrame'>\n",
      "RangeIndex: 10 entries, 0 to 9\n",
      "Data columns (total 5 columns):\n",
      " #   Column    Non-Null Count  Dtype  \n",
      "---  ------    --------------  -----  \n",
      " 0   Country   10 non-null     int64  \n",
      " 1   MAPE      10 non-null     float32\n",
      " 2   Density   10 non-null     float64\n",
      " 3   Active    10 non-null     int64  \n",
      " 4   forecast  10 non-null     object \n",
      "dtypes: float32(1), float64(1), int64(2), object(1)\n",
      "memory usage: 488.0+ bytes\n"
     ]
    }
   ],
   "source": [
    "result_df.info()"
   ]
  },
  {
   "cell_type": "code",
   "execution_count": 33,
   "id": "1ca4e8ea",
   "metadata": {},
   "outputs": [
    {
     "data": {
      "text/html": [
       "<div>\n",
       "<style scoped>\n",
       "    .dataframe tbody tr th:only-of-type {\n",
       "        vertical-align: middle;\n",
       "    }\n",
       "\n",
       "    .dataframe tbody tr th {\n",
       "        vertical-align: top;\n",
       "    }\n",
       "\n",
       "    .dataframe thead th {\n",
       "        text-align: right;\n",
       "    }\n",
       "</style>\n",
       "<table border=\"1\" class=\"dataframe\">\n",
       "  <thead>\n",
       "    <tr style=\"text-align: right;\">\n",
       "      <th></th>\n",
       "      <th>Country</th>\n",
       "      <th>MAPE</th>\n",
       "      <th>Density</th>\n",
       "      <th>Active</th>\n",
       "    </tr>\n",
       "  </thead>\n",
       "  <tbody>\n",
       "    <tr>\n",
       "      <th>count</th>\n",
       "      <td>10.000000</td>\n",
       "      <td>10.000000</td>\n",
       "      <td>10.000000</td>\n",
       "      <td>10.000000</td>\n",
       "    </tr>\n",
       "    <tr>\n",
       "      <th>mean</th>\n",
       "      <td>1010.000000</td>\n",
       "      <td>13.365339</td>\n",
       "      <td>2.366957</td>\n",
       "      <td>1951.700000</td>\n",
       "    </tr>\n",
       "    <tr>\n",
       "      <th>std</th>\n",
       "      <td>6.055301</td>\n",
       "      <td>22.840862</td>\n",
       "      <td>2.058719</td>\n",
       "      <td>4088.245292</td>\n",
       "    </tr>\n",
       "    <tr>\n",
       "      <th>min</th>\n",
       "      <td>1001.000000</td>\n",
       "      <td>2.058408</td>\n",
       "      <td>0.874082</td>\n",
       "      <td>69.000000</td>\n",
       "    </tr>\n",
       "    <tr>\n",
       "      <th>25%</th>\n",
       "      <td>1005.500000</td>\n",
       "      <td>4.369645</td>\n",
       "      <td>1.259125</td>\n",
       "      <td>249.000000</td>\n",
       "    </tr>\n",
       "    <tr>\n",
       "      <th>50%</th>\n",
       "      <td>1010.000000</td>\n",
       "      <td>6.807070</td>\n",
       "      <td>1.608238</td>\n",
       "      <td>339.500000</td>\n",
       "    </tr>\n",
       "    <tr>\n",
       "      <th>75%</th>\n",
       "      <td>1014.500000</td>\n",
       "      <td>8.100820</td>\n",
       "      <td>2.516171</td>\n",
       "      <td>1260.000000</td>\n",
       "    </tr>\n",
       "    <tr>\n",
       "      <th>max</th>\n",
       "      <td>1019.000000</td>\n",
       "      <td>77.754272</td>\n",
       "      <td>7.823300</td>\n",
       "      <td>13401.000000</td>\n",
       "    </tr>\n",
       "  </tbody>\n",
       "</table>\n",
       "</div>"
      ],
      "text/plain": [
       "           Country       MAPE    Density        Active\n",
       "count    10.000000  10.000000  10.000000     10.000000\n",
       "mean   1010.000000  13.365339   2.366957   1951.700000\n",
       "std       6.055301  22.840862   2.058719   4088.245292\n",
       "min    1001.000000   2.058408   0.874082     69.000000\n",
       "25%    1005.500000   4.369645   1.259125    249.000000\n",
       "50%    1010.000000   6.807070   1.608238    339.500000\n",
       "75%    1014.500000   8.100820   2.516171   1260.000000\n",
       "max    1019.000000  77.754272   7.823300  13401.000000"
      ]
     },
     "execution_count": 33,
     "metadata": {},
     "output_type": "execute_result"
    }
   ],
   "source": [
    "# window 15, horizon 1\n",
    "result_df.describe()"
   ]
  },
  {
   "cell_type": "code",
   "execution_count": 34,
   "id": "deb2f967",
   "metadata": {},
   "outputs": [],
   "source": [
    "w15_h1 = result_df['MAPE']"
   ]
  },
  {
   "cell_type": "code",
   "execution_count": 28,
   "id": "dad6196b",
   "metadata": {},
   "outputs": [
    {
     "data": {
      "text/html": [
       "<div>\n",
       "<style scoped>\n",
       "    .dataframe tbody tr th:only-of-type {\n",
       "        vertical-align: middle;\n",
       "    }\n",
       "\n",
       "    .dataframe tbody tr th {\n",
       "        vertical-align: top;\n",
       "    }\n",
       "\n",
       "    .dataframe thead th {\n",
       "        text-align: right;\n",
       "    }\n",
       "</style>\n",
       "<table border=\"1\" class=\"dataframe\">\n",
       "  <thead>\n",
       "    <tr style=\"text-align: right;\">\n",
       "      <th></th>\n",
       "      <th>Country</th>\n",
       "      <th>MAPE</th>\n",
       "      <th>Density</th>\n",
       "      <th>Active</th>\n",
       "    </tr>\n",
       "  </thead>\n",
       "  <tbody>\n",
       "    <tr>\n",
       "      <th>count</th>\n",
       "      <td>10.000000</td>\n",
       "      <td>10.000000</td>\n",
       "      <td>10.000000</td>\n",
       "      <td>10.000000</td>\n",
       "    </tr>\n",
       "    <tr>\n",
       "      <th>mean</th>\n",
       "      <td>1010.000000</td>\n",
       "      <td>4.609916</td>\n",
       "      <td>2.366957</td>\n",
       "      <td>1951.700000</td>\n",
       "    </tr>\n",
       "    <tr>\n",
       "      <th>std</th>\n",
       "      <td>6.055301</td>\n",
       "      <td>2.637052</td>\n",
       "      <td>2.058719</td>\n",
       "      <td>4088.245292</td>\n",
       "    </tr>\n",
       "    <tr>\n",
       "      <th>min</th>\n",
       "      <td>1001.000000</td>\n",
       "      <td>1.377794</td>\n",
       "      <td>0.874082</td>\n",
       "      <td>69.000000</td>\n",
       "    </tr>\n",
       "    <tr>\n",
       "      <th>25%</th>\n",
       "      <td>1005.500000</td>\n",
       "      <td>2.612397</td>\n",
       "      <td>1.259125</td>\n",
       "      <td>249.000000</td>\n",
       "    </tr>\n",
       "    <tr>\n",
       "      <th>50%</th>\n",
       "      <td>1010.000000</td>\n",
       "      <td>4.076322</td>\n",
       "      <td>1.608238</td>\n",
       "      <td>339.500000</td>\n",
       "    </tr>\n",
       "    <tr>\n",
       "      <th>75%</th>\n",
       "      <td>1014.500000</td>\n",
       "      <td>6.023873</td>\n",
       "      <td>2.516171</td>\n",
       "      <td>1260.000000</td>\n",
       "    </tr>\n",
       "    <tr>\n",
       "      <th>max</th>\n",
       "      <td>1019.000000</td>\n",
       "      <td>9.075433</td>\n",
       "      <td>7.823300</td>\n",
       "      <td>13401.000000</td>\n",
       "    </tr>\n",
       "  </tbody>\n",
       "</table>\n",
       "</div>"
      ],
      "text/plain": [
       "           Country       MAPE    Density        Active\n",
       "count    10.000000  10.000000  10.000000     10.000000\n",
       "mean   1010.000000   4.609916   2.366957   1951.700000\n",
       "std       6.055301   2.637052   2.058719   4088.245292\n",
       "min    1001.000000   1.377794   0.874082     69.000000\n",
       "25%    1005.500000   2.612397   1.259125    249.000000\n",
       "50%    1010.000000   4.076322   1.608238    339.500000\n",
       "75%    1014.500000   6.023873   2.516171   1260.000000\n",
       "max    1019.000000   9.075433   7.823300  13401.000000"
      ]
     },
     "execution_count": 28,
     "metadata": {},
     "output_type": "execute_result"
    }
   ],
   "source": [
    "# window 8, horizon 1\n",
    "result_df.describe()"
   ]
  },
  {
   "cell_type": "code",
   "execution_count": 31,
   "id": "7876e30a",
   "metadata": {},
   "outputs": [],
   "source": [
    "w8_h1 = result_df['MAPE']"
   ]
  },
  {
   "cell_type": "code",
   "execution_count": 36,
   "id": "54a81728",
   "metadata": {},
   "outputs": [
    {
     "data": {
      "text/html": [
       "<div>\n",
       "<style scoped>\n",
       "    .dataframe tbody tr th:only-of-type {\n",
       "        vertical-align: middle;\n",
       "    }\n",
       "\n",
       "    .dataframe tbody tr th {\n",
       "        vertical-align: top;\n",
       "    }\n",
       "\n",
       "    .dataframe thead th {\n",
       "        text-align: right;\n",
       "    }\n",
       "</style>\n",
       "<table border=\"1\" class=\"dataframe\">\n",
       "  <thead>\n",
       "    <tr style=\"text-align: right;\">\n",
       "      <th></th>\n",
       "      <th>Country</th>\n",
       "      <th>MAPE</th>\n",
       "      <th>Density</th>\n",
       "      <th>Active</th>\n",
       "    </tr>\n",
       "  </thead>\n",
       "  <tbody>\n",
       "    <tr>\n",
       "      <th>count</th>\n",
       "      <td>10.000000</td>\n",
       "      <td>10.000000</td>\n",
       "      <td>10.000000</td>\n",
       "      <td>10.000000</td>\n",
       "    </tr>\n",
       "    <tr>\n",
       "      <th>mean</th>\n",
       "      <td>1010.000000</td>\n",
       "      <td>7.934758</td>\n",
       "      <td>2.366957</td>\n",
       "      <td>1951.700000</td>\n",
       "    </tr>\n",
       "    <tr>\n",
       "      <th>std</th>\n",
       "      <td>6.055301</td>\n",
       "      <td>4.919312</td>\n",
       "      <td>2.058719</td>\n",
       "      <td>4088.245292</td>\n",
       "    </tr>\n",
       "    <tr>\n",
       "      <th>min</th>\n",
       "      <td>1001.000000</td>\n",
       "      <td>2.463541</td>\n",
       "      <td>0.874082</td>\n",
       "      <td>69.000000</td>\n",
       "    </tr>\n",
       "    <tr>\n",
       "      <th>25%</th>\n",
       "      <td>1005.500000</td>\n",
       "      <td>4.182199</td>\n",
       "      <td>1.259125</td>\n",
       "      <td>249.000000</td>\n",
       "    </tr>\n",
       "    <tr>\n",
       "      <th>50%</th>\n",
       "      <td>1010.000000</td>\n",
       "      <td>7.727695</td>\n",
       "      <td>1.608238</td>\n",
       "      <td>339.500000</td>\n",
       "    </tr>\n",
       "    <tr>\n",
       "      <th>75%</th>\n",
       "      <td>1014.500000</td>\n",
       "      <td>8.202562</td>\n",
       "      <td>2.516171</td>\n",
       "      <td>1260.000000</td>\n",
       "    </tr>\n",
       "    <tr>\n",
       "      <th>max</th>\n",
       "      <td>1019.000000</td>\n",
       "      <td>17.847908</td>\n",
       "      <td>7.823300</td>\n",
       "      <td>13401.000000</td>\n",
       "    </tr>\n",
       "  </tbody>\n",
       "</table>\n",
       "</div>"
      ],
      "text/plain": [
       "           Country       MAPE    Density        Active\n",
       "count    10.000000  10.000000  10.000000     10.000000\n",
       "mean   1010.000000   7.934758   2.366957   1951.700000\n",
       "std       6.055301   4.919312   2.058719   4088.245292\n",
       "min    1001.000000   2.463541   0.874082     69.000000\n",
       "25%    1005.500000   4.182199   1.259125    249.000000\n",
       "50%    1010.000000   7.727695   1.608238    339.500000\n",
       "75%    1014.500000   8.202562   2.516171   1260.000000\n",
       "max    1019.000000  17.847908   7.823300  13401.000000"
      ]
     },
     "execution_count": 36,
     "metadata": {},
     "output_type": "execute_result"
    }
   ],
   "source": [
    "#window 15, horizon 8\n",
    "result_df.describe()"
   ]
  },
  {
   "cell_type": "code",
   "execution_count": 37,
   "id": "30309fe6",
   "metadata": {},
   "outputs": [],
   "source": [
    "w15_h8 = result_df['MAPE']"
   ]
  },
  {
   "cell_type": "code",
   "execution_count": 40,
   "id": "861d23e8",
   "metadata": {},
   "outputs": [
    {
     "data": {
      "text/html": [
       "<div>\n",
       "<style scoped>\n",
       "    .dataframe tbody tr th:only-of-type {\n",
       "        vertical-align: middle;\n",
       "    }\n",
       "\n",
       "    .dataframe tbody tr th {\n",
       "        vertical-align: top;\n",
       "    }\n",
       "\n",
       "    .dataframe thead th {\n",
       "        text-align: right;\n",
       "    }\n",
       "</style>\n",
       "<table border=\"1\" class=\"dataframe\">\n",
       "  <thead>\n",
       "    <tr style=\"text-align: right;\">\n",
       "      <th></th>\n",
       "      <th>Country</th>\n",
       "      <th>MAPE</th>\n",
       "      <th>Density</th>\n",
       "      <th>Active</th>\n",
       "    </tr>\n",
       "  </thead>\n",
       "  <tbody>\n",
       "    <tr>\n",
       "      <th>count</th>\n",
       "      <td>10.000000</td>\n",
       "      <td>10.000000</td>\n",
       "      <td>10.000000</td>\n",
       "      <td>10.000000</td>\n",
       "    </tr>\n",
       "    <tr>\n",
       "      <th>mean</th>\n",
       "      <td>1010.000000</td>\n",
       "      <td>5.995880</td>\n",
       "      <td>2.366957</td>\n",
       "      <td>1951.700000</td>\n",
       "    </tr>\n",
       "    <tr>\n",
       "      <th>std</th>\n",
       "      <td>6.055301</td>\n",
       "      <td>3.531150</td>\n",
       "      <td>2.058719</td>\n",
       "      <td>4088.245292</td>\n",
       "    </tr>\n",
       "    <tr>\n",
       "      <th>min</th>\n",
       "      <td>1001.000000</td>\n",
       "      <td>2.095968</td>\n",
       "      <td>0.874082</td>\n",
       "      <td>69.000000</td>\n",
       "    </tr>\n",
       "    <tr>\n",
       "      <th>25%</th>\n",
       "      <td>1005.500000</td>\n",
       "      <td>4.365795</td>\n",
       "      <td>1.259125</td>\n",
       "      <td>249.000000</td>\n",
       "    </tr>\n",
       "    <tr>\n",
       "      <th>50%</th>\n",
       "      <td>1010.000000</td>\n",
       "      <td>4.918280</td>\n",
       "      <td>1.608238</td>\n",
       "      <td>339.500000</td>\n",
       "    </tr>\n",
       "    <tr>\n",
       "      <th>75%</th>\n",
       "      <td>1014.500000</td>\n",
       "      <td>6.919306</td>\n",
       "      <td>2.516171</td>\n",
       "      <td>1260.000000</td>\n",
       "    </tr>\n",
       "    <tr>\n",
       "      <th>max</th>\n",
       "      <td>1019.000000</td>\n",
       "      <td>14.917991</td>\n",
       "      <td>7.823300</td>\n",
       "      <td>13401.000000</td>\n",
       "    </tr>\n",
       "  </tbody>\n",
       "</table>\n",
       "</div>"
      ],
      "text/plain": [
       "           Country       MAPE    Density        Active\n",
       "count    10.000000  10.000000  10.000000     10.000000\n",
       "mean   1010.000000   5.995880   2.366957   1951.700000\n",
       "std       6.055301   3.531150   2.058719   4088.245292\n",
       "min    1001.000000   2.095968   0.874082     69.000000\n",
       "25%    1005.500000   4.365795   1.259125    249.000000\n",
       "50%    1010.000000   4.918280   1.608238    339.500000\n",
       "75%    1014.500000   6.919306   2.516171   1260.000000\n",
       "max    1019.000000  14.917991   7.823300  13401.000000"
      ]
     },
     "execution_count": 40,
     "metadata": {},
     "output_type": "execute_result"
    }
   ],
   "source": [
    "# window 8, horizon 8\n",
    "result_df.describe()"
   ]
  },
  {
   "cell_type": "code",
   "execution_count": 41,
   "id": "81754df3",
   "metadata": {},
   "outputs": [],
   "source": [
    "w8_h8 = result_df['MAPE']"
   ]
  },
  {
   "cell_type": "code",
   "execution_count": 43,
   "id": "0dd0b053",
   "metadata": {},
   "outputs": [
    {
     "data": {
      "text/html": [
       "<div>\n",
       "<style scoped>\n",
       "    .dataframe tbody tr th:only-of-type {\n",
       "        vertical-align: middle;\n",
       "    }\n",
       "\n",
       "    .dataframe tbody tr th {\n",
       "        vertical-align: top;\n",
       "    }\n",
       "\n",
       "    .dataframe thead th {\n",
       "        text-align: right;\n",
       "    }\n",
       "</style>\n",
       "<table border=\"1\" class=\"dataframe\">\n",
       "  <thead>\n",
       "    <tr style=\"text-align: right;\">\n",
       "      <th></th>\n",
       "      <th>cfips</th>\n",
       "      <th>w8_h1</th>\n",
       "      <th>w15_h1</th>\n",
       "      <th>w15_h8</th>\n",
       "      <th>w8_h8</th>\n",
       "    </tr>\n",
       "  </thead>\n",
       "  <tbody>\n",
       "    <tr>\n",
       "      <th>0</th>\n",
       "      <td>1001</td>\n",
       "      <td>8.344166</td>\n",
       "      <td>6.881743</td>\n",
       "      <td>2.463541</td>\n",
       "      <td>4.500173</td>\n",
       "    </tr>\n",
       "    <tr>\n",
       "      <th>1</th>\n",
       "      <td>1003</td>\n",
       "      <td>2.713423</td>\n",
       "      <td>2.058408</td>\n",
       "      <td>3.943709</td>\n",
       "      <td>3.837582</td>\n",
       "    </tr>\n",
       "    <tr>\n",
       "      <th>2</th>\n",
       "      <td>1005</td>\n",
       "      <td>4.800632</td>\n",
       "      <td>8.486783</td>\n",
       "      <td>4.897669</td>\n",
       "      <td>4.321002</td>\n",
       "    </tr>\n",
       "    <tr>\n",
       "      <th>3</th>\n",
       "      <td>1007</td>\n",
       "      <td>3.352012</td>\n",
       "      <td>6.732397</td>\n",
       "      <td>7.784091</td>\n",
       "      <td>7.638510</td>\n",
       "    </tr>\n",
       "    <tr>\n",
       "      <th>4</th>\n",
       "      <td>1009</td>\n",
       "      <td>2.578722</td>\n",
       "      <td>4.106229</td>\n",
       "      <td>3.670875</td>\n",
       "      <td>2.095968</td>\n",
       "    </tr>\n",
       "    <tr>\n",
       "      <th>5</th>\n",
       "      <td>1011</td>\n",
       "      <td>9.075433</td>\n",
       "      <td>12.995286</td>\n",
       "      <td>14.720456</td>\n",
       "      <td>14.917991</td>\n",
       "    </tr>\n",
       "    <tr>\n",
       "      <th>6</th>\n",
       "      <td>1013</td>\n",
       "      <td>6.234451</td>\n",
       "      <td>77.754272</td>\n",
       "      <td>17.847908</td>\n",
       "      <td>5.263985</td>\n",
       "    </tr>\n",
       "    <tr>\n",
       "      <th>7</th>\n",
       "      <td>1015</td>\n",
       "      <td>2.230384</td>\n",
       "      <td>6.942932</td>\n",
       "      <td>7.671298</td>\n",
       "      <td>5.377915</td>\n",
       "    </tr>\n",
       "    <tr>\n",
       "      <th>8</th>\n",
       "      <td>1017</td>\n",
       "      <td>5.392140</td>\n",
       "      <td>5.159894</td>\n",
       "      <td>8.116924</td>\n",
       "      <td>4.572574</td>\n",
       "    </tr>\n",
       "    <tr>\n",
       "      <th>9</th>\n",
       "      <td>1019</td>\n",
       "      <td>1.377794</td>\n",
       "      <td>2.535444</td>\n",
       "      <td>8.231108</td>\n",
       "      <td>7.433103</td>\n",
       "    </tr>\n",
       "  </tbody>\n",
       "</table>\n",
       "</div>"
      ],
      "text/plain": [
       "   cfips     w8_h1     w15_h1     w15_h8      w8_h8\n",
       "0   1001  8.344166   6.881743   2.463541   4.500173\n",
       "1   1003  2.713423   2.058408   3.943709   3.837582\n",
       "2   1005  4.800632   8.486783   4.897669   4.321002\n",
       "3   1007  3.352012   6.732397   7.784091   7.638510\n",
       "4   1009  2.578722   4.106229   3.670875   2.095968\n",
       "5   1011  9.075433  12.995286  14.720456  14.917991\n",
       "6   1013  6.234451  77.754272  17.847908   5.263985\n",
       "7   1015  2.230384   6.942932   7.671298   5.377915\n",
       "8   1017  5.392140   5.159894   8.116924   4.572574\n",
       "9   1019  1.377794   2.535444   8.231108   7.433103"
      ]
     },
     "execution_count": 43,
     "metadata": {},
     "output_type": "execute_result"
    }
   ],
   "source": [
    "compare = pd.DataFrame({'cfips': random_ids,\n",
    "                        'w8_h1': w8_h1,\n",
    "                       'w15_h1': w15_h1,\n",
    "                       'w15_h8': w15_h8,\n",
    "                       'w8_h8': w8_h8})\n",
    "compare"
   ]
  },
  {
   "cell_type": "code",
   "execution_count": 45,
   "id": "679e6058",
   "metadata": {},
   "outputs": [
    {
     "data": {
      "text/html": [
       "<div>\n",
       "<style scoped>\n",
       "    .dataframe tbody tr th:only-of-type {\n",
       "        vertical-align: middle;\n",
       "    }\n",
       "\n",
       "    .dataframe tbody tr th {\n",
       "        vertical-align: top;\n",
       "    }\n",
       "\n",
       "    .dataframe thead th {\n",
       "        text-align: right;\n",
       "    }\n",
       "</style>\n",
       "<table border=\"1\" class=\"dataframe\">\n",
       "  <thead>\n",
       "    <tr style=\"text-align: right;\">\n",
       "      <th></th>\n",
       "      <th>cfips</th>\n",
       "      <th>w8_h1</th>\n",
       "      <th>w15_h1</th>\n",
       "      <th>w15_h8</th>\n",
       "      <th>w8_h8</th>\n",
       "    </tr>\n",
       "  </thead>\n",
       "  <tbody>\n",
       "    <tr>\n",
       "      <th>count</th>\n",
       "      <td>10.000000</td>\n",
       "      <td>10.000000</td>\n",
       "      <td>10.000000</td>\n",
       "      <td>10.000000</td>\n",
       "      <td>10.000000</td>\n",
       "    </tr>\n",
       "    <tr>\n",
       "      <th>mean</th>\n",
       "      <td>1010.000000</td>\n",
       "      <td>4.609916</td>\n",
       "      <td>13.365339</td>\n",
       "      <td>7.934758</td>\n",
       "      <td>5.995880</td>\n",
       "    </tr>\n",
       "    <tr>\n",
       "      <th>std</th>\n",
       "      <td>6.055301</td>\n",
       "      <td>2.637052</td>\n",
       "      <td>22.840862</td>\n",
       "      <td>4.919312</td>\n",
       "      <td>3.531150</td>\n",
       "    </tr>\n",
       "    <tr>\n",
       "      <th>min</th>\n",
       "      <td>1001.000000</td>\n",
       "      <td>1.377794</td>\n",
       "      <td>2.058408</td>\n",
       "      <td>2.463541</td>\n",
       "      <td>2.095968</td>\n",
       "    </tr>\n",
       "    <tr>\n",
       "      <th>25%</th>\n",
       "      <td>1005.500000</td>\n",
       "      <td>2.612397</td>\n",
       "      <td>4.369645</td>\n",
       "      <td>4.182199</td>\n",
       "      <td>4.365795</td>\n",
       "    </tr>\n",
       "    <tr>\n",
       "      <th>50%</th>\n",
       "      <td>1010.000000</td>\n",
       "      <td>4.076322</td>\n",
       "      <td>6.807070</td>\n",
       "      <td>7.727695</td>\n",
       "      <td>4.918280</td>\n",
       "    </tr>\n",
       "    <tr>\n",
       "      <th>75%</th>\n",
       "      <td>1014.500000</td>\n",
       "      <td>6.023873</td>\n",
       "      <td>8.100820</td>\n",
       "      <td>8.202562</td>\n",
       "      <td>6.919306</td>\n",
       "    </tr>\n",
       "    <tr>\n",
       "      <th>max</th>\n",
       "      <td>1019.000000</td>\n",
       "      <td>9.075433</td>\n",
       "      <td>77.754272</td>\n",
       "      <td>17.847908</td>\n",
       "      <td>14.917991</td>\n",
       "    </tr>\n",
       "  </tbody>\n",
       "</table>\n",
       "</div>"
      ],
      "text/plain": [
       "             cfips      w8_h1     w15_h1     w15_h8      w8_h8\n",
       "count    10.000000  10.000000  10.000000  10.000000  10.000000\n",
       "mean   1010.000000   4.609916  13.365339   7.934758   5.995880\n",
       "std       6.055301   2.637052  22.840862   4.919312   3.531150\n",
       "min    1001.000000   1.377794   2.058408   2.463541   2.095968\n",
       "25%    1005.500000   2.612397   4.369645   4.182199   4.365795\n",
       "50%    1010.000000   4.076322   6.807070   7.727695   4.918280\n",
       "75%    1014.500000   6.023873   8.100820   8.202562   6.919306\n",
       "max    1019.000000   9.075433  77.754272  17.847908  14.917991"
      ]
     },
     "execution_count": 45,
     "metadata": {},
     "output_type": "execute_result"
    }
   ],
   "source": [
    "compare.describe()"
   ]
  },
  {
   "cell_type": "markdown",
   "id": "f3c12cd7",
   "metadata": {},
   "source": [
    "## Plot randomly"
   ]
  },
  {
   "cell_type": "code",
   "execution_count": 25,
   "id": "cce1ada3",
   "metadata": {},
   "outputs": [
    {
     "data": {
      "image/png": "[encoded data removed]",
      "text/plain": [
       "<Figure size 960x600 with 1 Axes>"
      ]
     },
     "metadata": {
      "needs_background": "light"
     },
     "output_type": "display_data"
    },
    {
     "data": {
      "image/png": "[encoded data removed]",
      "text/plain": [
       "<Figure size 960x600 with 1 Axes>"
      ]
     },
     "metadata": {
      "needs_background": "light"
     },
     "output_type": "display_data"
    },
    {
     "data": {
      "image/png": "[encoded data removed]",
      "text/plain": [
       "<Figure size 960x600 with 1 Axes>"
      ]
     },
     "metadata": {
      "needs_background": "light"
     },
     "output_type": "display_data"
    },
    {
     "data": {
      "image/png": "[encoded data removed]",
      "text/plain": [
       "<Figure size 960x600 with 1 Axes>"
      ]
     },
     "metadata": {
      "needs_background": "light"
     },
     "output_type": "display_data"
    },
    {
     "data": {
      "image/png": "[encoded data removed]",
      "text/plain": [
       "<Figure size 960x600 with 1 Axes>"
      ]
     },
     "metadata": {
      "needs_background": "light"
     },
     "output_type": "display_data"
    }
   ],
   "source": [
    "for idx in random.sample(list(result_df.index), 5):\n",
    "    c = result_df.loc[idx].Country\n",
    "    df = train[train.cfips == c]\n",
    "    preds = result_df.loc[idx].forecast\n",
    "    plot_time_series(c, x_train, df.microbusiness_density.values, label='train_data')\n",
    "    plot_time_series(c, x_test, preds, label='forecast')\n",
    "    plt.show()"
   ]
  },
  {
   "cell_type": "code",
   "execution_count": 18,
   "id": "1003eb14",
   "metadata": {},
   "outputs": [
    {
     "data": {
      "text/plain": [
       "4.925690021231422"
      ]
     },
     "execution_count": 18,
     "metadata": {},
     "output_type": "execute_result"
    }
   ],
   "source": [
    "(3*60 + 52) / 47.1"
   ]
  },
  {
   "cell_type": "code",
   "execution_count": 19,
   "id": "d31310ed",
   "metadata": {},
   "outputs": [
    {
     "data": {
      "text/plain": [
       "24.390243902439025"
      ]
     },
     "execution_count": 19,
     "metadata": {},
     "output_type": "execute_result"
    }
   ],
   "source": [
    "2*60 / 4.92"
   ]
  },
  {
   "cell_type": "markdown",
   "id": "d1e45cef",
   "metadata": {},
   "source": [
    "## Conclusion:\n",
    "\n",
    "Without multiprocessing, the process for 100 countries took about 3min 52sec. It took 47.1sec with using multiprocessing, so about 5 times quicker process with multiprocessing. \n",
    "\n",
    "With Dense layer, the process took almost 2 hours but with multiprocessing, it should take 24 min. "
   ]
  },
  {
   "cell_type": "code",
   "execution_count": 13,
   "id": "588f9d93",
   "metadata": {},
   "outputs": [
    {
     "name": "stdout",
     "output_type": "stream",
     "text": [
      "CPU times: total: 5.67 s\n",
      "Wall time: 14min 1s\n"
     ]
    }
   ],
   "source": [
    "%%time\n",
    "if __name__ == '__main__':\n",
    "    HORIZON = 8\n",
    "    WINDOW_SIZE = 8\n",
    "\n",
    "    train = pd.read_csv('train.csv')\n",
    "    IDS = train.cfips.unique()\n",
    "\n",
    "    x_train = np.arange(39).reshape((-1,1))\n",
    "    x_test = np.arange(31,39).reshape((-1,1))\n",
    "    window_size = WINDOW_SIZE\n",
    "    horizon = HORIZON\n",
    "    epoch = 500\n",
    "    \n",
    "    cfips_list = []\n",
    "    mapes = []\n",
    "    density_values = []\n",
    "    active_size = []\n",
    "    forecasts = []\n",
    "\n",
    "    pool = mp.Pool(16)\n",
    "\n",
    "    func = partial(train_get_result, train, window_size, horizon, epoch)\n",
    "    results = pool.map(func, IDS)\n",
    "    pool.close()\n",
    "    pool.join()\n",
    "    \n",
    "    # Create DataFrame\n",
    "    for i in range(len(results)):\n",
    "        c = results[i][0]\n",
    "        cfips_list.append(c)\n",
    "        last_density = results[i][1]\n",
    "        density_values.append(last_density)\n",
    "        last_active = results[i][2]\n",
    "        active_size.append(last_active)\n",
    "        mape = results[i][3]\n",
    "        mapes.append(mape)\n",
    "        preds = results[i][4]\n",
    "        x = np.array(preds).reshape((-1))\n",
    "        preds = x.astype(np.float64)\n",
    "        forecasts.append(preds)\n",
    "    \n",
    "    result_df = pd.DataFrame({'Country': cfips_list,\n",
    "                             'MAPE': mapes,\n",
    "                             \"Density\": density_values,\n",
    "                             'Active': active_size,\n",
    "                             'forecast': forecasts})"
   ]
  },
  {
   "cell_type": "code",
   "execution_count": 14,
   "id": "dec0c01a",
   "metadata": {},
   "outputs": [
    {
     "data": {
      "text/html": [
       "<div>\n",
       "<style scoped>\n",
       "    .dataframe tbody tr th:only-of-type {\n",
       "        vertical-align: middle;\n",
       "    }\n",
       "\n",
       "    .dataframe tbody tr th {\n",
       "        vertical-align: top;\n",
       "    }\n",
       "\n",
       "    .dataframe thead th {\n",
       "        text-align: right;\n",
       "    }\n",
       "</style>\n",
       "<table border=\"1\" class=\"dataframe\">\n",
       "  <thead>\n",
       "    <tr style=\"text-align: right;\">\n",
       "      <th></th>\n",
       "      <th>Country</th>\n",
       "      <th>MAPE</th>\n",
       "      <th>Density</th>\n",
       "      <th>Active</th>\n",
       "      <th>forecast</th>\n",
       "    </tr>\n",
       "  </thead>\n",
       "  <tbody>\n",
       "    <tr>\n",
       "      <th>0</th>\n",
       "      <td>1001</td>\n",
       "      <td>1.417421</td>\n",
       "      <td>3.334431</td>\n",
       "      <td>1417</td>\n",
       "      <td>[3.3108668327331543, 3.3126509189605713, 3.323...</td>\n",
       "    </tr>\n",
       "    <tr>\n",
       "      <th>1</th>\n",
       "      <td>1003</td>\n",
       "      <td>4.196681</td>\n",
       "      <td>7.823300</td>\n",
       "      <td>13401</td>\n",
       "      <td>[7.868815898895264, 7.868452072143555, 7.84069...</td>\n",
       "    </tr>\n",
       "    <tr>\n",
       "      <th>2</th>\n",
       "      <td>1005</td>\n",
       "      <td>1.185098</td>\n",
       "      <td>1.206827</td>\n",
       "      <td>239</td>\n",
       "      <td>[1.1813340187072754, 1.1708394289016724, 1.175...</td>\n",
       "    </tr>\n",
       "    <tr>\n",
       "      <th>3</th>\n",
       "      <td>1007</td>\n",
       "      <td>6.075342</td>\n",
       "      <td>1.236650</td>\n",
       "      <td>220</td>\n",
       "      <td>[1.2209161520004272, 1.1954143047332764, 1.208...</td>\n",
       "    </tr>\n",
       "    <tr>\n",
       "      <th>4</th>\n",
       "      <td>1009</td>\n",
       "      <td>1.262635</td>\n",
       "      <td>1.777708</td>\n",
       "      <td>789</td>\n",
       "      <td>[1.7684862613677979, 1.7747997045516968, 1.777...</td>\n",
       "    </tr>\n",
       "    <tr>\n",
       "      <th>...</th>\n",
       "      <td>...</td>\n",
       "      <td>...</td>\n",
       "      <td>...</td>\n",
       "      <td>...</td>\n",
       "      <td>...</td>\n",
       "    </tr>\n",
       "    <tr>\n",
       "      <th>3130</th>\n",
       "      <td>56037</td>\n",
       "      <td>9.978364</td>\n",
       "      <td>2.892446</td>\n",
       "      <td>927</td>\n",
       "      <td>[3.1089422702789307, 3.1881651878356934, 3.092...</td>\n",
       "    </tr>\n",
       "    <tr>\n",
       "      <th>3131</th>\n",
       "      <td>56039</td>\n",
       "      <td>2.905866</td>\n",
       "      <td>25.438322</td>\n",
       "      <td>4875</td>\n",
       "      <td>[25.509532928466797, 25.50068473815918, 25.414...</td>\n",
       "    </tr>\n",
       "    <tr>\n",
       "      <th>3132</th>\n",
       "      <td>56041</td>\n",
       "      <td>13.356834</td>\n",
       "      <td>3.954258</td>\n",
       "      <td>574</td>\n",
       "      <td>[3.575770854949951, 3.4783244132995605, 3.4778...</td>\n",
       "    </tr>\n",
       "    <tr>\n",
       "      <th>3133</th>\n",
       "      <td>56043</td>\n",
       "      <td>3.020502</td>\n",
       "      <td>3.027295</td>\n",
       "      <td>183</td>\n",
       "      <td>[3.074720621109009, 3.0981178283691406, 3.0835...</td>\n",
       "    </tr>\n",
       "    <tr>\n",
       "      <th>3134</th>\n",
       "      <td>56045</td>\n",
       "      <td>1.647851</td>\n",
       "      <td>1.749688</td>\n",
       "      <td>98</td>\n",
       "      <td>[1.7476780414581299, 1.7390002012252808, 1.761...</td>\n",
       "    </tr>\n",
       "  </tbody>\n",
       "</table>\n",
       "<p>3135 rows × 5 columns</p>\n",
       "</div>"
      ],
      "text/plain": [
       "      Country       MAPE    Density  Active  \\\n",
       "0        1001   1.417421   3.334431    1417   \n",
       "1        1003   4.196681   7.823300   13401   \n",
       "2        1005   1.185098   1.206827     239   \n",
       "3        1007   6.075342   1.236650     220   \n",
       "4        1009   1.262635   1.777708     789   \n",
       "...       ...        ...        ...     ...   \n",
       "3130    56037   9.978364   2.892446     927   \n",
       "3131    56039   2.905866  25.438322    4875   \n",
       "3132    56041  13.356834   3.954258     574   \n",
       "3133    56043   3.020502   3.027295     183   \n",
       "3134    56045   1.647851   1.749688      98   \n",
       "\n",
       "                                               forecast  \n",
       "0     [3.3108668327331543, 3.3126509189605713, 3.323...  \n",
       "1     [7.868815898895264, 7.868452072143555, 7.84069...  \n",
       "2     [1.1813340187072754, 1.1708394289016724, 1.175...  \n",
       "3     [1.2209161520004272, 1.1954143047332764, 1.208...  \n",
       "4     [1.7684862613677979, 1.7747997045516968, 1.777...  \n",
       "...                                                 ...  \n",
       "3130  [3.1089422702789307, 3.1881651878356934, 3.092...  \n",
       "3131  [25.509532928466797, 25.50068473815918, 25.414...  \n",
       "3132  [3.575770854949951, 3.4783244132995605, 3.4778...  \n",
       "3133  [3.074720621109009, 3.0981178283691406, 3.0835...  \n",
       "3134  [1.7476780414581299, 1.7390002012252808, 1.761...  \n",
       "\n",
       "[3135 rows x 5 columns]"
      ]
     },
     "execution_count": 14,
     "metadata": {},
     "output_type": "execute_result"
    }
   ],
   "source": [
    "result_df"
   ]
  },
  {
   "cell_type": "code",
   "execution_count": 15,
   "id": "a3f2d703",
   "metadata": {},
   "outputs": [],
   "source": [
    "result_df.to_csv(\"dense_results_full_data_2.csv\", index=False)"
   ]
  },
  {
   "cell_type": "markdown",
   "id": "13352ac2",
   "metadata": {},
   "source": [
    "I saved the resuts as dense_results_full_data.csv. It only took less than 17 munites. I will use this results for analyze then find a way to maximize MAPE>"
   ]
  },
  {
   "cell_type": "code",
   "execution_count": 16,
   "id": "f0b1cded",
   "metadata": {},
   "outputs": [
    {
     "name": "stdout",
     "output_type": "stream",
     "text": [
      "<class 'pandas.core.frame.DataFrame'>\n",
      "RangeIndex: 3135 entries, 0 to 3134\n",
      "Data columns (total 5 columns):\n",
      " #   Column    Non-Null Count  Dtype  \n",
      "---  ------    --------------  -----  \n",
      " 0   Country   3135 non-null   int64  \n",
      " 1   MAPE      3135 non-null   float32\n",
      " 2   Density   3135 non-null   float64\n",
      " 3   Active    3135 non-null   int64  \n",
      " 4   forecast  3135 non-null   object \n",
      "dtypes: float32(1), float64(1), int64(2), object(1)\n",
      "memory usage: 110.3+ KB\n"
     ]
    }
   ],
   "source": [
    "result_df.info()"
   ]
  },
  {
   "cell_type": "code",
   "execution_count": 17,
   "id": "e591f84e",
   "metadata": {},
   "outputs": [
    {
     "data": {
      "text/plain": [
       "numpy.float64"
      ]
     },
     "execution_count": 17,
     "metadata": {},
     "output_type": "execute_result"
    }
   ],
   "source": [
    "type(result_df.iloc[0]['forecast'][0])"
   ]
  },
  {
   "cell_type": "code",
   "execution_count": 18,
   "id": "dc687c57",
   "metadata": {},
   "outputs": [
    {
     "data": {
      "text/plain": [
       "25080"
      ]
     },
     "execution_count": 18,
     "metadata": {},
     "output_type": "execute_result"
    }
   ],
   "source": [
    "# List of forecasts to put on pandas dataframe to numpy array the reshape it. This will make 1D array. \n",
    "len(np.array(forecasts).reshape((-1)))"
   ]
  },
  {
   "cell_type": "code",
   "execution_count": 19,
   "id": "47bff2fc",
   "metadata": {},
   "outputs": [
    {
     "data": {
      "text/html": [
       "<div>\n",
       "<style scoped>\n",
       "    .dataframe tbody tr th:only-of-type {\n",
       "        vertical-align: middle;\n",
       "    }\n",
       "\n",
       "    .dataframe tbody tr th {\n",
       "        vertical-align: top;\n",
       "    }\n",
       "\n",
       "    .dataframe thead th {\n",
       "        text-align: right;\n",
       "    }\n",
       "</style>\n",
       "<table border=\"1\" class=\"dataframe\">\n",
       "  <thead>\n",
       "    <tr style=\"text-align: right;\">\n",
       "      <th></th>\n",
       "      <th>Country</th>\n",
       "      <th>MAPE</th>\n",
       "      <th>Density</th>\n",
       "      <th>Active</th>\n",
       "    </tr>\n",
       "  </thead>\n",
       "  <tbody>\n",
       "    <tr>\n",
       "      <th>count</th>\n",
       "      <td>3135.000000</td>\n",
       "      <td>3135.000000</td>\n",
       "      <td>3135.000000</td>\n",
       "      <td>3.135000e+03</td>\n",
       "    </tr>\n",
       "    <tr>\n",
       "      <th>mean</th>\n",
       "      <td>30376.037640</td>\n",
       "      <td>66.520531</td>\n",
       "      <td>3.918186</td>\n",
       "      <td>6.604037e+03</td>\n",
       "    </tr>\n",
       "    <tr>\n",
       "      <th>std</th>\n",
       "      <td>15145.862593</td>\n",
       "      <td>3417.547852</td>\n",
       "      <td>6.173361</td>\n",
       "      <td>3.353639e+04</td>\n",
       "    </tr>\n",
       "    <tr>\n",
       "      <th>min</th>\n",
       "      <td>1001.000000</td>\n",
       "      <td>0.287190</td>\n",
       "      <td>0.000000</td>\n",
       "      <td>0.000000e+00</td>\n",
       "    </tr>\n",
       "    <tr>\n",
       "      <th>25%</th>\n",
       "      <td>18178.000000</td>\n",
       "      <td>1.924506</td>\n",
       "      <td>1.658691</td>\n",
       "      <td>1.455000e+02</td>\n",
       "    </tr>\n",
       "    <tr>\n",
       "      <th>50%</th>\n",
       "      <td>29173.000000</td>\n",
       "      <td>3.419774</td>\n",
       "      <td>2.587083</td>\n",
       "      <td>4.890000e+02</td>\n",
       "    </tr>\n",
       "    <tr>\n",
       "      <th>75%</th>\n",
       "      <td>45076.000000</td>\n",
       "      <td>5.859985</td>\n",
       "      <td>4.545713</td>\n",
       "      <td>2.139500e+03</td>\n",
       "    </tr>\n",
       "    <tr>\n",
       "      <th>max</th>\n",
       "      <td>56045.000000</td>\n",
       "      <td>191352.734375</td>\n",
       "      <td>217.587110</td>\n",
       "      <td>1.137607e+06</td>\n",
       "    </tr>\n",
       "  </tbody>\n",
       "</table>\n",
       "</div>"
      ],
      "text/plain": [
       "            Country           MAPE      Density        Active\n",
       "count   3135.000000    3135.000000  3135.000000  3.135000e+03\n",
       "mean   30376.037640      66.520531     3.918186  6.604037e+03\n",
       "std    15145.862593    3417.547852     6.173361  3.353639e+04\n",
       "min     1001.000000       0.287190     0.000000  0.000000e+00\n",
       "25%    18178.000000       1.924506     1.658691  1.455000e+02\n",
       "50%    29173.000000       3.419774     2.587083  4.890000e+02\n",
       "75%    45076.000000       5.859985     4.545713  2.139500e+03\n",
       "max    56045.000000  191352.734375   217.587110  1.137607e+06"
      ]
     },
     "execution_count": 19,
     "metadata": {},
     "output_type": "execute_result"
    }
   ],
   "source": [
    "result_df.describe()"
   ]
  },
  {
   "cell_type": "code",
   "execution_count": 20,
   "id": "1ad98d27",
   "metadata": {},
   "outputs": [],
   "source": [
    "# Next get rsult with all the same values\n",
    "IDS = train.cfips.unique()\n",
    "x_train = np.arange(31).reshape((-1,1))\n",
    "x_test = np.arange(31,39).reshape((-1,1))\n",
    "\n",
    "# Based on the Chris's rule, SMAPE > THRESHOLD -> Use linear regrssion \n",
    "mapes = []\n",
    "\n",
    "for cfips in IDS:\n",
    "    c = cfips\n",
    "    \n",
    "    df = train.loc[train['cfips'] == c]\n",
    "    last = df['microbusiness_density'].values[-9]\n",
    "\n",
    "\n",
    "    preds = [last]*8\n",
    "    test_label = np.expand_dims(np.array(train[train['cfips'] == c]['microbusiness_density'][31:39]), axis=0)\n",
    "    results = evaluate_preds(test_label, preds)\n",
    "    m = results['mape']\n",
    "    forecasts.append(np.array(preds).reshape((-1)))\n",
    "    mapes.append(m)\n",
    "\n",
    "\n",
    "result_df['SV_MAPE'] = mapes"
   ]
  },
  {
   "cell_type": "code",
   "execution_count": 21,
   "id": "a0acbe96",
   "metadata": {},
   "outputs": [
    {
     "data": {
      "text/html": [
       "<div>\n",
       "<style scoped>\n",
       "    .dataframe tbody tr th:only-of-type {\n",
       "        vertical-align: middle;\n",
       "    }\n",
       "\n",
       "    .dataframe tbody tr th {\n",
       "        vertical-align: top;\n",
       "    }\n",
       "\n",
       "    .dataframe thead th {\n",
       "        text-align: right;\n",
       "    }\n",
       "</style>\n",
       "<table border=\"1\" class=\"dataframe\">\n",
       "  <thead>\n",
       "    <tr style=\"text-align: right;\">\n",
       "      <th></th>\n",
       "      <th>Country</th>\n",
       "      <th>MAPE</th>\n",
       "      <th>Density</th>\n",
       "      <th>Active</th>\n",
       "      <th>SV_MAPE</th>\n",
       "    </tr>\n",
       "  </thead>\n",
       "  <tbody>\n",
       "    <tr>\n",
       "      <th>count</th>\n",
       "      <td>3135.000000</td>\n",
       "      <td>3135.000000</td>\n",
       "      <td>3135.000000</td>\n",
       "      <td>3.135000e+03</td>\n",
       "      <td>3135.000000</td>\n",
       "    </tr>\n",
       "    <tr>\n",
       "      <th>mean</th>\n",
       "      <td>30376.037640</td>\n",
       "      <td>66.520531</td>\n",
       "      <td>3.918186</td>\n",
       "      <td>6.604037e+03</td>\n",
       "      <td>3.909996</td>\n",
       "    </tr>\n",
       "    <tr>\n",
       "      <th>std</th>\n",
       "      <td>15145.862593</td>\n",
       "      <td>3417.547852</td>\n",
       "      <td>6.173361</td>\n",
       "      <td>3.353639e+04</td>\n",
       "      <td>21.621550</td>\n",
       "    </tr>\n",
       "    <tr>\n",
       "      <th>min</th>\n",
       "      <td>1001.000000</td>\n",
       "      <td>0.287190</td>\n",
       "      <td>0.000000</td>\n",
       "      <td>0.000000e+00</td>\n",
       "      <td>0.000000</td>\n",
       "    </tr>\n",
       "    <tr>\n",
       "      <th>25%</th>\n",
       "      <td>18178.000000</td>\n",
       "      <td>1.924506</td>\n",
       "      <td>1.658691</td>\n",
       "      <td>1.455000e+02</td>\n",
       "      <td>1.394263</td>\n",
       "    </tr>\n",
       "    <tr>\n",
       "      <th>50%</th>\n",
       "      <td>29173.000000</td>\n",
       "      <td>3.419774</td>\n",
       "      <td>2.587083</td>\n",
       "      <td>4.890000e+02</td>\n",
       "      <td>2.353172</td>\n",
       "    </tr>\n",
       "    <tr>\n",
       "      <th>75%</th>\n",
       "      <td>45076.000000</td>\n",
       "      <td>5.859985</td>\n",
       "      <td>4.545713</td>\n",
       "      <td>2.139500e+03</td>\n",
       "      <td>3.993313</td>\n",
       "    </tr>\n",
       "    <tr>\n",
       "      <th>max</th>\n",
       "      <td>56045.000000</td>\n",
       "      <td>191352.734375</td>\n",
       "      <td>217.587110</td>\n",
       "      <td>1.137607e+06</td>\n",
       "      <td>1183.264771</td>\n",
       "    </tr>\n",
       "  </tbody>\n",
       "</table>\n",
       "</div>"
      ],
      "text/plain": [
       "            Country           MAPE      Density        Active      SV_MAPE\n",
       "count   3135.000000    3135.000000  3135.000000  3.135000e+03  3135.000000\n",
       "mean   30376.037640      66.520531     3.918186  6.604037e+03     3.909996\n",
       "std    15145.862593    3417.547852     6.173361  3.353639e+04    21.621550\n",
       "min     1001.000000       0.287190     0.000000  0.000000e+00     0.000000\n",
       "25%    18178.000000       1.924506     1.658691  1.455000e+02     1.394263\n",
       "50%    29173.000000       3.419774     2.587083  4.890000e+02     2.353172\n",
       "75%    45076.000000       5.859985     4.545713  2.139500e+03     3.993313\n",
       "max    56045.000000  191352.734375   217.587110  1.137607e+06  1183.264771"
      ]
     },
     "execution_count": 21,
     "metadata": {},
     "output_type": "execute_result"
    }
   ],
   "source": [
    "result_df.describe()"
   ]
  },
  {
   "cell_type": "code",
   "execution_count": 22,
   "id": "e5a923d0",
   "metadata": {},
   "outputs": [],
   "source": [
    "result_df = result_df[['Country', 'MAPE', \"SV_MAPE\"]]\n",
    "\n",
    "# Compare those three numbers and categorize by the best score. \n",
    "best_scores = result_df.min(axis='columns')"
   ]
  },
  {
   "cell_type": "code",
   "execution_count": 25,
   "id": "7582ae62",
   "metadata": {},
   "outputs": [
    {
     "name": "stderr",
     "output_type": "stream",
     "text": [
      "C:\\Users\\Masa\\AppData\\Local\\Temp\\ipykernel_24200\\3829976995.py:9: SettingWithCopyWarning: \n",
      "A value is trying to be set on a copy of a slice from a DataFrame.\n",
      "Try using .loc[row_indexer,col_indexer] = value instead\n",
      "\n",
      "See the caveats in the documentation: https://pandas.pydata.org/pandas-docs/stable/user_guide/indexing.html#returning-a-view-versus-a-copy\n",
      "  result_df['category'] = cat\n"
     ]
    },
    {
     "data": {
      "text/html": [
       "<div>\n",
       "<style scoped>\n",
       "    .dataframe tbody tr th:only-of-type {\n",
       "        vertical-align: middle;\n",
       "    }\n",
       "\n",
       "    .dataframe tbody tr th {\n",
       "        vertical-align: top;\n",
       "    }\n",
       "\n",
       "    .dataframe thead th {\n",
       "        text-align: right;\n",
       "    }\n",
       "</style>\n",
       "<table border=\"1\" class=\"dataframe\">\n",
       "  <thead>\n",
       "    <tr style=\"text-align: right;\">\n",
       "      <th></th>\n",
       "      <th>Country</th>\n",
       "      <th>MAPE</th>\n",
       "      <th>SV_MAPE</th>\n",
       "      <th>category</th>\n",
       "    </tr>\n",
       "  </thead>\n",
       "  <tbody>\n",
       "    <tr>\n",
       "      <th>0</th>\n",
       "      <td>1001</td>\n",
       "      <td>1.417421</td>\n",
       "      <td>1.835232</td>\n",
       "      <td>tf_dense</td>\n",
       "    </tr>\n",
       "    <tr>\n",
       "      <th>1</th>\n",
       "      <td>1003</td>\n",
       "      <td>4.196681</td>\n",
       "      <td>5.230218</td>\n",
       "      <td>tf_dense</td>\n",
       "    </tr>\n",
       "    <tr>\n",
       "      <th>2</th>\n",
       "      <td>1005</td>\n",
       "      <td>1.185098</td>\n",
       "      <td>1.101416</td>\n",
       "      <td>SV</td>\n",
       "    </tr>\n",
       "    <tr>\n",
       "      <th>3</th>\n",
       "      <td>1007</td>\n",
       "      <td>6.075342</td>\n",
       "      <td>3.574082</td>\n",
       "      <td>SV</td>\n",
       "    </tr>\n",
       "    <tr>\n",
       "      <th>4</th>\n",
       "      <td>1009</td>\n",
       "      <td>1.262635</td>\n",
       "      <td>2.116541</td>\n",
       "      <td>tf_dense</td>\n",
       "    </tr>\n",
       "  </tbody>\n",
       "</table>\n",
       "</div>"
      ],
      "text/plain": [
       "   Country      MAPE   SV_MAPE  category\n",
       "0     1001  1.417421  1.835232  tf_dense\n",
       "1     1003  4.196681  5.230218  tf_dense\n",
       "2     1005  1.185098  1.101416        SV\n",
       "3     1007  6.075342  3.574082        SV\n",
       "4     1009  1.262635  2.116541  tf_dense"
      ]
     },
     "execution_count": 25,
     "metadata": {},
     "output_type": "execute_result"
    }
   ],
   "source": [
    "cat = []\n",
    "for i, m in enumerate(best_scores):\n",
    "    if m == result_df['MAPE'].iloc[i]:\n",
    "        category = 'tf_dense'\n",
    "        cat.append(category)\n",
    "    elif m == result_df['SV_MAPE'].iloc[i]:\n",
    "        category = \"SV\"\n",
    "        cat.append(category)\n",
    "result_df['category'] = cat\n",
    "result_df.head()"
   ]
  },
  {
   "cell_type": "code",
   "execution_count": 28,
   "id": "c384cc54",
   "metadata": {},
   "outputs": [
    {
     "data": {
      "text/plain": [
       "SV          2117\n",
       "tf_dense    1018\n",
       "Name: category, dtype: int64"
      ]
     },
     "execution_count": 28,
     "metadata": {},
     "output_type": "execute_result"
    }
   ],
   "source": [
    "result_df['category'].value_counts()"
   ]
  },
  {
   "cell_type": "code",
   "execution_count": 30,
   "id": "2efa3597",
   "metadata": {},
   "outputs": [
    {
     "name": "stderr",
     "output_type": "stream",
     "text": [
      "C:\\Users\\Masa\\AppData\\Local\\Temp\\ipykernel_24200\\2252161307.py:1: SettingWithCopyWarning: \n",
      "A value is trying to be set on a copy of a slice from a DataFrame.\n",
      "Try using .loc[row_indexer,col_indexer] = value instead\n",
      "\n",
      "See the caveats in the documentation: https://pandas.pydata.org/pandas-docs/stable/user_guide/indexing.html#returning-a-view-versus-a-copy\n",
      "  result_df['best_score'] = best_scores\n"
     ]
    },
    {
     "data": {
      "text/html": [
       "<div>\n",
       "<style scoped>\n",
       "    .dataframe tbody tr th:only-of-type {\n",
       "        vertical-align: middle;\n",
       "    }\n",
       "\n",
       "    .dataframe tbody tr th {\n",
       "        vertical-align: top;\n",
       "    }\n",
       "\n",
       "    .dataframe thead th {\n",
       "        text-align: right;\n",
       "    }\n",
       "</style>\n",
       "<table border=\"1\" class=\"dataframe\">\n",
       "  <thead>\n",
       "    <tr style=\"text-align: right;\">\n",
       "      <th></th>\n",
       "      <th>Country</th>\n",
       "      <th>MAPE</th>\n",
       "      <th>SV_MAPE</th>\n",
       "      <th>best_score</th>\n",
       "    </tr>\n",
       "  </thead>\n",
       "  <tbody>\n",
       "    <tr>\n",
       "      <th>count</th>\n",
       "      <td>3135.000000</td>\n",
       "      <td>3135.000000</td>\n",
       "      <td>3135.000000</td>\n",
       "      <td>3135.000000</td>\n",
       "    </tr>\n",
       "    <tr>\n",
       "      <th>mean</th>\n",
       "      <td>30376.037640</td>\n",
       "      <td>66.520531</td>\n",
       "      <td>3.909996</td>\n",
       "      <td>3.411218</td>\n",
       "    </tr>\n",
       "    <tr>\n",
       "      <th>std</th>\n",
       "      <td>15145.862593</td>\n",
       "      <td>3417.547852</td>\n",
       "      <td>21.621550</td>\n",
       "      <td>19.918324</td>\n",
       "    </tr>\n",
       "    <tr>\n",
       "      <th>min</th>\n",
       "      <td>1001.000000</td>\n",
       "      <td>0.287190</td>\n",
       "      <td>0.000000</td>\n",
       "      <td>0.000000</td>\n",
       "    </tr>\n",
       "    <tr>\n",
       "      <th>25%</th>\n",
       "      <td>18178.000000</td>\n",
       "      <td>1.924506</td>\n",
       "      <td>1.394263</td>\n",
       "      <td>1.167628</td>\n",
       "    </tr>\n",
       "    <tr>\n",
       "      <th>50%</th>\n",
       "      <td>29173.000000</td>\n",
       "      <td>3.419774</td>\n",
       "      <td>2.353172</td>\n",
       "      <td>2.005190</td>\n",
       "    </tr>\n",
       "    <tr>\n",
       "      <th>75%</th>\n",
       "      <td>45076.000000</td>\n",
       "      <td>5.859985</td>\n",
       "      <td>3.993313</td>\n",
       "      <td>3.413568</td>\n",
       "    </tr>\n",
       "    <tr>\n",
       "      <th>max</th>\n",
       "      <td>56045.000000</td>\n",
       "      <td>191352.734375</td>\n",
       "      <td>1183.264771</td>\n",
       "      <td>1093.467163</td>\n",
       "    </tr>\n",
       "  </tbody>\n",
       "</table>\n",
       "</div>"
      ],
      "text/plain": [
       "            Country           MAPE      SV_MAPE   best_score\n",
       "count   3135.000000    3135.000000  3135.000000  3135.000000\n",
       "mean   30376.037640      66.520531     3.909996     3.411218\n",
       "std    15145.862593    3417.547852    21.621550    19.918324\n",
       "min     1001.000000       0.287190     0.000000     0.000000\n",
       "25%    18178.000000       1.924506     1.394263     1.167628\n",
       "50%    29173.000000       3.419774     2.353172     2.005190\n",
       "75%    45076.000000       5.859985     3.993313     3.413568\n",
       "max    56045.000000  191352.734375  1183.264771  1093.467163"
      ]
     },
     "execution_count": 30,
     "metadata": {},
     "output_type": "execute_result"
    }
   ],
   "source": [
    "result_df['best_score'] = best_scores\n",
    "result_df.describe()"
   ]
  },
  {
   "cell_type": "code",
   "execution_count": null,
   "id": "bc81e7ce",
   "metadata": {},
   "outputs": [],
   "source": []
  }
 ],
 "metadata": {
  "kernelspec": {
   "display_name": "Python 3 (ipykernel)",
   "language": "python",
   "name": "python3"
  },
  "language_info": {
   "codemirror_mode": {
    "name": "ipython",
    "version": 3
   },
   "file_extension": ".py",
   "mimetype": "text/x-python",
   "name": "python",
   "nbconvert_exporter": "python",
   "pygments_lexer": "ipython3",
   "version": "3.9.12"
  }
 },
 "nbformat": 4,
 "nbformat_minor": 5
}
