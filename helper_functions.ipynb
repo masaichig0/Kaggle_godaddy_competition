{
 "cells": [
  {
   "cell_type": "code",
   "execution_count": 4,
   "id": "6f0cbf4a",
   "metadata": {},
   "outputs": [],
   "source": [
    "import numpy as np\n",
    "import pandas as pd\n",
    "import tensorflow as tf\n",
    "import matplotlib.pyplot as plt\n",
    "plt.rcParams.update({\"figure.figsize\": (8, 5), \"figure.dpi\": 120})\n",
    "import os"
   ]
  },
  {
   "cell_type": "code",
   "execution_count": 6,
   "id": "06d98fbb",
   "metadata": {},
   "outputs": [],
   "source": [
    "# Creaet the function to label windowed data\n",
    "def get_labelled_windows(x, horizon=8):\n",
    "    \"\"\"\n",
    "    Creates labels for windowed dataset\n",
    "    E.g. if horizon=1;\n",
    "    Input: [0, 1, 2, 3, 4, 5, 6, 7] -> Output: ([0, 1, 2, 3, 4, 5, 6], [7])\n",
    "    \"\"\"\n",
    "    return x[:, :-horizon], x[:, -horizon:]\n",
    "\n",
    "def make_windows(x, window_size=8, horizon=8):\n",
    "    \"\"\"\n",
    "    Turns a 1D array into a 2D array of sequential labelled windows of window_size with horizon \n",
    "    size labels. \n",
    "    \"\"\"\n",
    "    #1. Create a window of specific window_size (add the horizon on the end for labelling later)\n",
    "    window_step = np.expand_dims(np.arange(window_size+horizon), axis=0)\n",
    "    #2. Create a 2D array of multiple window steps (minus 1 to account for 0 indexing)\n",
    "    window_indexes = window_step + np.expand_dims(np.arange(len(x) - (window_size+horizon-1)), axis=0).T \n",
    "    #print(f'Window indexes: \\n{window_indexes, window_indexes.shape}')\n",
    "    #3. Index on the target array (a time series) with 2D array of multiple window steps\n",
    "    windowed_array = x[window_indexes]\n",
    "    #print(windowed_array)\n",
    "    #4. Get the labelled windows\n",
    "    windows, labels = get_labelled_windows(windowed_array, horizon=horizon)\n",
    "    return windows, labels"
   ]
  },
  {
   "cell_type": "code",
   "execution_count": 7,
   "id": "a39e2bdd",
   "metadata": {},
   "outputs": [],
   "source": [
    "# Split train set and test set. \n",
    "def make_train_test_split(windows, labels, split_size=1):\n",
    "    \"\"\"\n",
    "      Splits matching pairs of windows and labels into train and test splits.\n",
    "  \n",
    "      Returns:\n",
    "      train_windows, test_windows, train_labels, test_labels\n",
    "    \"\"\"\n",
    "    split_size = len(windows) - split_size\n",
    "    train_windows = windows[:split_size]\n",
    "    train_labels = labels[:split_size]\n",
    "    test_windows = windows[split_size:]\n",
    "    test_labels = labels[split_size:]\n",
    "    return train_windows, test_windows, train_labels, test_labels"
   ]
  },
  {
   "cell_type": "code",
   "execution_count": 8,
   "id": "daba1929",
   "metadata": {},
   "outputs": [],
   "source": [
    "# Create the function to take in model predictions and truth values and return evaluation metrics\n",
    "def evaluate_preds(y_true, y_pred):\n",
    "    # Make sure float32 datatype for metric calculations\n",
    "    y_true = tf.cast(y_true, dtype=tf.float32)\n",
    "    y_pred = tf.cast(y_pred, dtype=tf.float32)\n",
    "\n",
    "    # Calculate various evaluation metrics\n",
    "    mae = tf.keras.metrics.mean_absolute_error(y_true, y_pred)[0]\n",
    "    #print(f'MAE: {mae}')\n",
    "    mse = tf.keras.metrics.mean_squared_error(y_true, y_pred)[0]\n",
    "    #print(f'MSE: {mse}')\n",
    "    rmse = tf.sqrt(mse)\n",
    "    #print(f'RMSE: {rmse}')\n",
    "    mape = tf.keras.metrics.mean_absolute_percentage_error(y_true, y_pred)[0]\n",
    "    #print(f'MAPE: {mape}')\n",
    "\n",
    "    return {\"mae\": mae.numpy(),\n",
    "            \"mse\": mse.numpy(),\n",
    "            \"rmse\": rmse.numpy(),\n",
    "            \"mape\": mape.numpy()}"
   ]
  },
  {
   "cell_type": "code",
   "execution_count": 9,
   "id": "8a5ebcf5",
   "metadata": {},
   "outputs": [],
   "source": [
    "# Function to predict the model result\n",
    "def make_preds(model, input_data):\n",
    "    \"\"\"\n",
    "    Uses model to make predictions input_data.\n",
    "    \"\"\"\n",
    "    forecast = model.predict(input_data)\n",
    "    return tf.squeeze(forecast) # return 1D array of predictions"
   ]
  },
  {
   "cell_type": "code",
   "execution_count": 10,
   "id": "228e1dbe",
   "metadata": {},
   "outputs": [],
   "source": [
    "# Create a function to plot time series data\n",
    "def plot_time_series(cfips, timesteps, values, format=\"-\", start=0, end=None, label=None):\n",
    "    \"\"\"\n",
    "    Plots timesteps (a series of points in time) against values (a series of values across timesteps).\n",
    "\n",
    "    Parameters\n",
    "    -----------\n",
    "    timesteps : array of timesteps values\n",
    "    values : array of values across time\n",
    "    format : style of plot, default \".\"\n",
    "    start : where to start the plot (setting a value will index from start of timesteps & values)\n",
    "    end : where to end the plot (similar to start but for the end)\n",
    "    label : label to show on plot about values\n",
    "    \"\"\"\n",
    "    # Plot the series\n",
    "    plt.plot(timesteps[start:end], values[start:end], format, label=label)\n",
    "    plt.title(f'Cfips: {cfips}', fontsize=18)\n",
    "    plt.xlabel(\"time\", fontsize=14)\n",
    "    plt.ylabel('MicroBusiness Density', fontsize=14)\n",
    "    if label:\n",
    "        plt.legend(fontsize=14) # make label bigger\n",
    "    plt.grid(True)"
   ]
  },
  {
   "cell_type": "code",
   "execution_count": null,
   "id": "4735c802",
   "metadata": {},
   "outputs": [],
   "source": []
  }
 ],
 "metadata": {
  "kernelspec": {
   "display_name": "gpu_enable",
   "language": "python",
   "name": "gpu_enable"
  },
  "language_info": {
   "codemirror_mode": {
    "name": "ipython",
    "version": 3
   },
   "file_extension": ".py",
   "mimetype": "text/x-python",
   "name": "python",
   "nbconvert_exporter": "python",
   "pygments_lexer": "ipython3",
   "version": "3.9.15"
  }
 },
 "nbformat": 4,
 "nbformat_minor": 5
}
