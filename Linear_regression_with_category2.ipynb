{
 "cells": [
  {
   "cell_type": "markdown",
   "id": "2f595e2f",
   "metadata": {},
   "source": [
    "## Now I got the data for the results with Tensorflow dence layers. I categorized good MAPE result country and not good one. \n",
    "\n",
    "Now I will train category 2 with linear regression to get better MAPE results. "
   ]
  },
  {
   "cell_type": "markdown",
   "id": "7259b435",
   "metadata": {},
   "source": [
    "### Things to do:\n",
    "\n",
    "* Load result data with category. \n",
    "* Load train data. \n",
    "* Grab the cfips on category 2.\n",
    "* train with linear regression if the country incategory 2, then update MAPE. \n"
   ]
  },
  {
   "cell_type": "code",
   "execution_count": 1,
   "id": "dc167023",
   "metadata": {},
   "outputs": [],
   "source": [
    "import pandas as pd\n",
    "import numpy as np\n",
    "import matplotlib.pyplot as plt\n",
    "import seaborn as sns\n",
    "from sklearn.linear_model import LinearRegression\n",
    "from helper_functions import *"
   ]
  },
  {
   "cell_type": "code",
   "execution_count": 51,
   "id": "bb522cb5",
   "metadata": {},
   "outputs": [],
   "source": [
    "data = pd.read_csv(\"result_dense_with_category.csv\")\n",
    "train = pd.read_csv(\"train.csv\")"
   ]
  },
  {
   "cell_type": "code",
   "execution_count": 52,
   "id": "863cc2e7",
   "metadata": {},
   "outputs": [],
   "source": [
    "# Grab the cfips on category 2\n",
    "cfips_category1 = data[data['category'] == 1]['Country'].unique()"
   ]
  },
  {
   "cell_type": "code",
   "execution_count": 53,
   "id": "b3ba906a",
   "metadata": {},
   "outputs": [
    {
     "data": {
      "text/plain": [
       "609"
      ]
     },
     "execution_count": 53,
     "metadata": {},
     "output_type": "execute_result"
    }
   ],
   "source": [
    "len(cfips_category1)"
   ]
  },
  {
   "cell_type": "code",
   "execution_count": 54,
   "id": "5d40a843",
   "metadata": {},
   "outputs": [
    {
     "name": "stdout",
     "output_type": "stream",
     "text": [
      "<class 'pandas.core.frame.DataFrame'>\n",
      "RangeIndex: 3135 entries, 0 to 3134\n",
      "Data columns (total 6 columns):\n",
      " #   Column    Non-Null Count  Dtype  \n",
      "---  ------    --------------  -----  \n",
      " 0   Country   3135 non-null   int64  \n",
      " 1   MAPE      3135 non-null   float64\n",
      " 2   Density   3135 non-null   float64\n",
      " 3   Active    3135 non-null   int64  \n",
      " 4   forecast  3135 non-null   object \n",
      " 5   category  3135 non-null   int64  \n",
      "dtypes: float64(2), int64(3), object(1)\n",
      "memory usage: 147.1+ KB\n"
     ]
    }
   ],
   "source": [
    "data.info()"
   ]
  },
  {
   "cell_type": "markdown",
   "id": "37be7c10",
   "metadata": {},
   "source": [
    "### Work on this for loop to get new MAPE with new training. Let's see if the total MAPE increase. \n",
    "\n",
    "Code above is the Renear regression training. "
   ]
  },
  {
   "cell_type": "code",
   "execution_count": 43,
   "id": "5452510c",
   "metadata": {},
   "outputs": [
    {
     "data": {
      "text/plain": [
       "array([[31],\n",
       "       [32],\n",
       "       [33],\n",
       "       [34],\n",
       "       [35],\n",
       "       [36],\n",
       "       [37],\n",
       "       [38]])"
      ]
     },
     "execution_count": 43,
     "metadata": {},
     "output_type": "execute_result"
    }
   ],
   "source": [
    "np.arange(31,39).reshape((-1,1))"
   ]
  },
  {
   "cell_type": "code",
   "execution_count": 65,
   "id": "47193ff8",
   "metadata": {},
   "outputs": [
    {
     "name": "stdout",
     "output_type": "stream",
     "text": [
      "The data predict with Linear Regression: 1023\n",
      "The data not predict with Linear Regression: 1503\n",
      "Model: LinearRegression()\n",
      "Mean SMAPE: 0.11579484807089503\n",
      "Min SMAPE: 0.0018782232910424662\n",
      "Max SMAPE: 0.2993328663980672\n"
     ]
    },
    {
     "data": {
      "text/html": [
       "<div>\n",
       "<style scoped>\n",
       "    .dataframe tbody tr th:only-of-type {\n",
       "        vertical-align: middle;\n",
       "    }\n",
       "\n",
       "    .dataframe tbody tr th {\n",
       "        vertical-align: top;\n",
       "    }\n",
       "\n",
       "    .dataframe thead th {\n",
       "        text-align: right;\n",
       "    }\n",
       "</style>\n",
       "<table border=\"1\" class=\"dataframe\">\n",
       "  <thead>\n",
       "    <tr style=\"text-align: right;\">\n",
       "      <th></th>\n",
       "      <th>MAPE</th>\n",
       "      <th>new_MAPE</th>\n",
       "    </tr>\n",
       "  </thead>\n",
       "  <tbody>\n",
       "    <tr>\n",
       "      <th>0</th>\n",
       "      <td>1.504614</td>\n",
       "      <td>0.992271</td>\n",
       "    </tr>\n",
       "    <tr>\n",
       "      <th>1</th>\n",
       "      <td>4.143341</td>\n",
       "      <td>5.230218</td>\n",
       "    </tr>\n",
       "    <tr>\n",
       "      <th>2</th>\n",
       "      <td>1.395184</td>\n",
       "      <td>1.395184</td>\n",
       "    </tr>\n",
       "    <tr>\n",
       "      <th>3</th>\n",
       "      <td>5.228748</td>\n",
       "      <td>3.574082</td>\n",
       "    </tr>\n",
       "    <tr>\n",
       "      <th>4</th>\n",
       "      <td>1.442244</td>\n",
       "      <td>1.442244</td>\n",
       "    </tr>\n",
       "    <tr>\n",
       "      <th>...</th>\n",
       "      <td>...</td>\n",
       "      <td>...</td>\n",
       "    </tr>\n",
       "    <tr>\n",
       "      <th>3130</th>\n",
       "      <td>8.937141</td>\n",
       "      <td>2.450784</td>\n",
       "    </tr>\n",
       "    <tr>\n",
       "      <th>3131</th>\n",
       "      <td>3.437833</td>\n",
       "      <td>1.586990</td>\n",
       "    </tr>\n",
       "    <tr>\n",
       "      <th>3132</th>\n",
       "      <td>4.339747</td>\n",
       "      <td>1.381605</td>\n",
       "    </tr>\n",
       "    <tr>\n",
       "      <th>3133</th>\n",
       "      <td>2.373714</td>\n",
       "      <td>3.608545</td>\n",
       "    </tr>\n",
       "    <tr>\n",
       "      <th>3134</th>\n",
       "      <td>1.285249</td>\n",
       "      <td>1.285249</td>\n",
       "    </tr>\n",
       "  </tbody>\n",
       "</table>\n",
       "<p>3135 rows × 2 columns</p>\n",
       "</div>"
      ],
      "text/plain": [
       "          MAPE  new_MAPE\n",
       "0     1.504614  0.992271\n",
       "1     4.143341  5.230218\n",
       "2     1.395184  1.395184\n",
       "3     5.228748  3.574082\n",
       "4     1.442244  1.442244\n",
       "...        ...       ...\n",
       "3130  8.937141  2.450784\n",
       "3131  3.437833  1.586990\n",
       "3132  4.339747  1.381605\n",
       "3133  2.373714  3.608545\n",
       "3134  1.285249  1.285249\n",
       "\n",
       "[3135 rows x 2 columns]"
      ]
     },
     "execution_count": 65,
     "metadata": {},
     "output_type": "execute_result"
    }
   ],
   "source": [
    "THRESHOLD = 0.103\n",
    "\n",
    "IDS = train.cfips.unique()\n",
    "x_train = np.arange(31).reshape((-1,1))\n",
    "x_test = np.arange(31,39).reshape((-1,1))\n",
    "\n",
    "# Based on the Chris's rule, SMAPE > THRESHOLD -> Use linear regrssion \n",
    "lr_or_non_lr = []  # If use linear regression, label as 1, if not label as 0\n",
    "smape = []\n",
    "mape = []\n",
    "predict = []\n",
    "new_predict = []\n",
    "new_category = []\n",
    "\n",
    "for cfips in IDS:\n",
    "    c = cfips\n",
    "\n",
    "\n",
    "    # If the cfips in the category 2, then train with linear regression and update MAPE\n",
    "    if c in cfips_category1:\n",
    "        category_new = 'tf_dense'\n",
    "        new_category.append(category_new)\n",
    "        mape.append(np.float64(data[data['Country'] == c][\"MAPE\"]))\n",
    "        new_predict.append(data[data['Country'] == c]['forecast'])\n",
    "    # If category 1, keep the MAPE score\n",
    "    else:\n",
    "        df = train.loc[train['cfips'] == c]\n",
    "        last = df['microbusiness_density'].values[-9]\n",
    "\n",
    "        # Fit linear regression\n",
    "        model = LinearRegression()\n",
    "        model.fit(x_train,df['microbusiness_density'][:31])\n",
    "        p = model.predict(x_train)\n",
    "\n",
    "        # Compute train error\n",
    "        err = p - df['microbusiness_density'][:31].values\n",
    "        rng = df['microbusiness_density'].max() - df['microbusiness_density'].min()\n",
    "        #print(f'Error: {err}\\nRange: {rng}')\n",
    "\n",
    "        # Determin if time series is linear or not\n",
    "        s = 0\n",
    "        for k in range(31):\n",
    "            e = np.abs(err[k])\n",
    "            #print(f'e : {e}')\n",
    "            r = e / rng # absolute error divided by range\n",
    "            #print(f'r: {r}')\n",
    "            s += r\n",
    "        #mape.append(s) # Grab MAPE to compare with other data\n",
    "        #print(f's: {s}')\n",
    "        s = s/39 # now S is MAPE mean absolute percentage error\n",
    "        smape.append(s) \n",
    "        #print(f'Divide s by the number of data -> MAPE: {s}')\n",
    "\n",
    "        # Infer test data with linear regression\n",
    "        p2 = model.predict(x_test)\n",
    "        shift = last - p2[0]\n",
    "        if s <THRESHOLD: \n",
    "            category_new = 'LR'\n",
    "            new_category.append(category_new)\n",
    "            preds = p2[:]+shift\n",
    "            label = 0\n",
    "            lr_or_non_lr.append(label)\n",
    "            test_label = np.expand_dims(np.array(train[train['cfips'] == c]['microbusiness_density'][31:39]), axis=0)\n",
    "            results = evaluate_preds(test_label, preds)\n",
    "            m = results['mape']\n",
    "            predict.append(np.array(preds).reshape((-1)))\n",
    "            mape.append(m)\n",
    "            new_predict.append(preds)\n",
    "        else: \n",
    "            category_new = 'Same value'\n",
    "            new_category.append(category_new)\n",
    "            preds = [last]*8\n",
    "            label = 1\n",
    "            lr_or_non_lr.append(label)\n",
    "            test_label = np.expand_dims(np.array(train[train['cfips'] == c]['microbusiness_density'][31:39]), axis=0)\n",
    "            results = evaluate_preds(test_label, preds)\n",
    "            m = results['mape']\n",
    "            predict.append(np.array(preds).reshape((-1)))\n",
    "            mape.append(m)\n",
    "            new_predict.append(preds)\n",
    "\n",
    "count_lr = lr_or_non_lr.count(0)\n",
    "count_non_lr = lr_or_non_lr.count(1)\n",
    "print(f'The data predict with Linear Regression: {count_lr}')\n",
    "print(f'The data not predict with Linear Regression: {count_non_lr}')\n",
    "print(f'Model: {model}\\nMean SMAPE: {np.mean(smape)}\\nMin SMAPE: {np.min(smape)}\\nMax SMAPE: {np.max(smape)}')\n",
    "                \n",
    "        \n",
    "data['new_MAPE'] = mape\n",
    "data['new_predict'] = new_predict\n",
    "data['new_category'] = new_category\n",
    "data[['MAPE', 'new_MAPE']]"
   ]
  },
  {
   "cell_type": "markdown",
   "id": "940ca0ce",
   "metadata": {},
   "source": [
    "#### Check how many MAPE incresed"
   ]
  },
  {
   "cell_type": "code",
   "execution_count": 56,
   "id": "623d54da",
   "metadata": {},
   "outputs": [
    {
     "name": "stdout",
     "output_type": "stream",
     "text": [
      "Old Mean MAPE: 27.99670683904312\n",
      "New Mean MAPE: 8926.5638727907\n"
     ]
    }
   ],
   "source": [
    "print(f\"Old Mean MAPE: {data['MAPE'].mean()}\\nNew Mean MAPE: {data['new_MAPE'].mean()}\")"
   ]
  },
  {
   "cell_type": "code",
   "execution_count": 57,
   "id": "0312cb3b",
   "metadata": {},
   "outputs": [
    {
     "name": "stdout",
     "output_type": "stream",
     "text": [
      "MAPE Increased: 1804\n",
      "MAPE Decreased: 722\n",
      "Unchanged: 609\n"
     ]
    }
   ],
   "source": [
    "increased = 0\n",
    "unchanged = 0\n",
    "decreased = 0\n",
    "for i in range(len(data)):\n",
    "    if data['MAPE'].iloc[i] > data['new_MAPE'].iloc[i]:\n",
    "        increased += 1\n",
    "    elif data['MAPE'].iloc[i] < data['new_MAPE'].iloc[i]:\n",
    "        decreased += 1\n",
    "    else:\n",
    "        unchanged += 1\n",
    "print(f\"MAPE Increased: {increased}\\nMAPE Decreased: {decreased}\\nUnchanged: {unchanged}\")"
   ]
  },
  {
   "cell_type": "markdown",
   "id": "a2f3b2bd",
   "metadata": {},
   "source": [
    "## Conclusion:\n",
    "\n",
    "MAPE Increased most of them by using Linear Regression with the SMAPE < 1.03, and use the last microbusiness density value for the SMAPE larger than 1.03 with the Country I categorised 2 after I trained on tensorflow Dense layer result. However, the mean values decreased big number and I think it is because few of them decreased MAPE a lots. I will find out which one got worse and I will apply different method on those bad one. And I will add the one more step that to compare with old MAPE and pick the better one. For now, I will use this model and submit to see if this model get better result than old one with just tf dense model. \n",
    "\n",
    "\n"
   ]
  },
  {
   "cell_type": "markdown",
   "id": "1e600eaa",
   "metadata": {},
   "source": [
    "## Next step:\n",
    "\n",
    "* Compare old MAPE and new MAPE then if it increase (1905 of them increased), updatte to new MAPE, if decrease (621 of them), then use old one stead. \n",
    "* Those 621 of them, I will apply diffrent model to get the result. \n",
    "* I will train with entire data with each method, then create the result table, so I can compare which one is the best. "
   ]
  },
  {
   "cell_type": "code",
   "execution_count": 67,
   "id": "ec7c7045",
   "metadata": {},
   "outputs": [],
   "source": [
    "data.to_csv(\"result_after_LR.csv\", index=False)"
   ]
  },
  {
   "cell_type": "code",
   "execution_count": 68,
   "id": "eb862450",
   "metadata": {},
   "outputs": [],
   "source": [
    "d = pd.read_csv(\"result_after_LR.csv\")"
   ]
  },
  {
   "cell_type": "code",
   "execution_count": 69,
   "id": "c8a3bd7d",
   "metadata": {},
   "outputs": [
    {
     "data": {
      "text/html": [
       "<div>\n",
       "<style scoped>\n",
       "    .dataframe tbody tr th:only-of-type {\n",
       "        vertical-align: middle;\n",
       "    }\n",
       "\n",
       "    .dataframe tbody tr th {\n",
       "        vertical-align: top;\n",
       "    }\n",
       "\n",
       "    .dataframe thead th {\n",
       "        text-align: right;\n",
       "    }\n",
       "</style>\n",
       "<table border=\"1\" class=\"dataframe\">\n",
       "  <thead>\n",
       "    <tr style=\"text-align: right;\">\n",
       "      <th></th>\n",
       "      <th>Country</th>\n",
       "      <th>MAPE</th>\n",
       "      <th>Density</th>\n",
       "      <th>Active</th>\n",
       "      <th>forecast</th>\n",
       "      <th>category</th>\n",
       "      <th>new_MAPE</th>\n",
       "      <th>new_predict</th>\n",
       "      <th>new_category</th>\n",
       "    </tr>\n",
       "  </thead>\n",
       "  <tbody>\n",
       "    <tr>\n",
       "      <th>0</th>\n",
       "      <td>1001</td>\n",
       "      <td>1.504614</td>\n",
       "      <td>3.463856</td>\n",
       "      <td>1472</td>\n",
       "      <td>[3.3091352  3.31727028 3.32801533 3.33693123 3...</td>\n",
       "      <td>2</td>\n",
       "      <td>0.992271</td>\n",
       "      <td>[3.3344314  3.34608375 3.35773609 3.36938844 3...</td>\n",
       "      <td>LR</td>\n",
       "    </tr>\n",
       "    <tr>\n",
       "      <th>1</th>\n",
       "      <td>1003</td>\n",
       "      <td>4.143341</td>\n",
       "      <td>8.359798</td>\n",
       "      <td>14320</td>\n",
       "      <td>[7.85833788 7.88518858 7.90744925 7.90828514 7...</td>\n",
       "      <td>2</td>\n",
       "      <td>5.230218</td>\n",
       "      <td>[7.8232999, 7.8232999, 7.8232999, 7.8232999, 7...</td>\n",
       "      <td>Same value</td>\n",
       "    </tr>\n",
       "    <tr>\n",
       "      <th>2</th>\n",
       "      <td>1005</td>\n",
       "      <td>1.395184</td>\n",
       "      <td>1.232074</td>\n",
       "      <td>244</td>\n",
       "      <td>[1.16141069 1.16513038 1.17019248 1.18426347 1...</td>\n",
       "      <td>1</td>\n",
       "      <td>1.395184</td>\n",
       "      <td>2    [1.16141069 1.16513038 1.17019248 1.18426...</td>\n",
       "      <td>tf_dense</td>\n",
       "    </tr>\n",
       "    <tr>\n",
       "      <th>3</th>\n",
       "      <td>1007</td>\n",
       "      <td>5.228748</td>\n",
       "      <td>1.287240</td>\n",
       "      <td>229</td>\n",
       "      <td>[1.22299695 1.22010887 1.22093809 1.21361172 1...</td>\n",
       "      <td>2</td>\n",
       "      <td>3.574082</td>\n",
       "      <td>[1.2366498, 1.2366498, 1.2366498, 1.2366498, 1...</td>\n",
       "      <td>Same value</td>\n",
       "    </tr>\n",
       "    <tr>\n",
       "      <th>4</th>\n",
       "      <td>1009</td>\n",
       "      <td>1.442244</td>\n",
       "      <td>1.831783</td>\n",
       "      <td>813</td>\n",
       "      <td>[1.75237012 1.76360607 1.77065146 1.7765491  1...</td>\n",
       "      <td>1</td>\n",
       "      <td>1.442244</td>\n",
       "      <td>4    [1.75237012 1.76360607 1.77065146 1.77654...</td>\n",
       "      <td>tf_dense</td>\n",
       "    </tr>\n",
       "  </tbody>\n",
       "</table>\n",
       "</div>"
      ],
      "text/plain": [
       "   Country      MAPE   Density  Active  \\\n",
       "0     1001  1.504614  3.463856    1472   \n",
       "1     1003  4.143341  8.359798   14320   \n",
       "2     1005  1.395184  1.232074     244   \n",
       "3     1007  5.228748  1.287240     229   \n",
       "4     1009  1.442244  1.831783     813   \n",
       "\n",
       "                                            forecast  category  new_MAPE  \\\n",
       "0  [3.3091352  3.31727028 3.32801533 3.33693123 3...         2  0.992271   \n",
       "1  [7.85833788 7.88518858 7.90744925 7.90828514 7...         2  5.230218   \n",
       "2  [1.16141069 1.16513038 1.17019248 1.18426347 1...         1  1.395184   \n",
       "3  [1.22299695 1.22010887 1.22093809 1.21361172 1...         2  3.574082   \n",
       "4  [1.75237012 1.76360607 1.77065146 1.7765491  1...         1  1.442244   \n",
       "\n",
       "                                         new_predict new_category  \n",
       "0  [3.3344314  3.34608375 3.35773609 3.36938844 3...           LR  \n",
       "1  [7.8232999, 7.8232999, 7.8232999, 7.8232999, 7...   Same value  \n",
       "2  2    [1.16141069 1.16513038 1.17019248 1.18426...     tf_dense  \n",
       "3  [1.2366498, 1.2366498, 1.2366498, 1.2366498, 1...   Same value  \n",
       "4  4    [1.75237012 1.76360607 1.77065146 1.77654...     tf_dense  "
      ]
     },
     "execution_count": 69,
     "metadata": {},
     "output_type": "execute_result"
    }
   ],
   "source": [
    "d.head()"
   ]
  },
  {
   "cell_type": "markdown",
   "id": "d1d95ed0",
   "metadata": {},
   "source": [
    "## Next step\n",
    "\n",
    "* Create the list of Country by new_category then predict with what category says."
   ]
  },
  {
   "cell_type": "code",
   "execution_count": 79,
   "id": "119f2046",
   "metadata": {},
   "outputs": [],
   "source": [
    "cat_1 = d[d['new_category'] == 'tf_dense']['Country'].unique()\n",
    "cat_2 = d[d['new_category'] == 'LR']['Country'].unique()\n",
    "cat_3 = d[d['new_category'] == 'Same value']['Country'].unique()"
   ]
  },
  {
   "cell_type": "code",
   "execution_count": 80,
   "id": "2fadba81",
   "metadata": {},
   "outputs": [
    {
     "data": {
      "text/plain": [
       "(609, 1023, 1503)"
      ]
     },
     "execution_count": 80,
     "metadata": {},
     "output_type": "execute_result"
    }
   ],
   "source": [
    "len(cat_1), len(cat_2), len(cat_3)"
   ]
  },
  {
   "cell_type": "markdown",
   "id": "1a5d72c4",
   "metadata": {},
   "source": [
    "## Sudo code for next step:\n",
    "\n",
    "for loop for cfips:\n",
    "\n",
    "if cfips in cat_1:\n",
    "\n",
    "    run tensorflow dense and get prediction. \n",
    "    predict result to numpy array\n",
    "    then add to the list of forcasts\n",
    "    \n",
    "if cfips in cat_2:\n",
    "\n",
    "    run Linear regression and get prediction\n",
    "    add to the list of forecasts\n",
    "    \n",
    "if cfips in cat_3:\n",
    "\n",
    "    last number will be theprediction.\n",
    "    add to the list of forecasts\n",
    "    \n",
    "convert to numpy array - np.array(forecasts).reshape((-1)) to convert 1D array, so I can submit the result.  "
   ]
  },
  {
   "cell_type": "code",
   "execution_count": null,
   "id": "aa685447",
   "metadata": {},
   "outputs": [],
   "source": []
  }
 ],
 "metadata": {
  "kernelspec": {
   "display_name": "Python 3 (ipykernel)",
   "language": "python",
   "name": "python3"
  },
  "language_info": {
   "codemirror_mode": {
    "name": "ipython",
    "version": 3
   },
   "file_extension": ".py",
   "mimetype": "text/x-python",
   "name": "python",
   "nbconvert_exporter": "python",
   "pygments_lexer": "ipython3",
   "version": "3.9.12"
  }
 },
 "nbformat": 4,
 "nbformat_minor": 5
}
