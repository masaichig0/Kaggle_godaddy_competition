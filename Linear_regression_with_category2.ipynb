{
 "cells": [
  {
   "cell_type": "markdown",
   "id": "2f595e2f",
   "metadata": {},
   "source": [
    "## Now I got the data for the results with Tensorflow dence layers. I categorized good MAPE result country and not good one. \n",
    "\n",
    "Now I will train category 2 with linear regression to get better MAPE results. "
   ]
  },
  {
   "cell_type": "markdown",
   "id": "7259b435",
   "metadata": {},
   "source": [
    "### Things to do:\n",
    "\n",
    "* Load result data with category. \n",
    "* Load train data. \n",
    "* Grab the cfips on category 2.\n",
    "* train with linear regression if the country incategory 2, then update MAPE. \n"
   ]
  },
  {
   "cell_type": "code",
   "execution_count": 7,
   "id": "dc167023",
   "metadata": {},
   "outputs": [],
   "source": [
    "import pandas as pd\n",
    "import numpy as np\n",
    "import matplotlib.pyplot as plt\n",
    "import seaborn as sns\n",
    "from sklearn.linear_model import LinearRegression"
   ]
  },
  {
   "cell_type": "code",
   "execution_count": 16,
   "id": "bb522cb5",
   "metadata": {},
   "outputs": [],
   "source": [
    "data = pd.read_csv(\"result_dense_with_category\")\n",
    "train = pd.read_csv(\"train.csv\")"
   ]
  },
  {
   "cell_type": "code",
   "execution_count": 17,
   "id": "863cc2e7",
   "metadata": {},
   "outputs": [],
   "source": [
    "# Grab the cfips on category 2\n",
    "cfips_category2 = data[data['category'] == 2]['Country'].unique()"
   ]
  },
  {
   "cell_type": "code",
   "execution_count": 13,
   "id": "2ecd7dc1",
   "metadata": {},
   "outputs": [
    {
     "name": "stdout",
     "output_type": "stream",
     "text": [
      "The data predict with Linear Regression: 491\n",
      "The data not predict with Linear Regression: 2644\n",
      "Model: LinearRegression()\n",
      "Mean SMAPE: 0.15733848411716167\n",
      "Min SMAPE: 0.025774969877374484\n",
      "Max SMAPE: 0.34610839978243374\n",
      "Mean MAPE: 6.136200880569304\n"
     ]
    }
   ],
   "source": [
    "THRESHOLD = 0.103\n",
    "\n",
    "IDS = train.cfips.unique()\n",
    "x_train = np.arange(39).reshape((-1,1))\n",
    "x_test = np.arange(38,47).reshape((-1,1))\n",
    "\n",
    "# Based on the Chris's rule, SMAPE > THRESHOLD -> Use linear regrssion \n",
    "lr_or_non_lr = []  # If use linear regression, label as 1, if not label as 0\n",
    "smape = []\n",
    "mape = []\n",
    "predict = []\n",
    "for cfips in IDS:\n",
    "    c = cfips\n",
    "    df = train.loc[train['cfips'] == c]\n",
    "    last = df['microbusiness_density'].values[-1]\n",
    "\n",
    "    # Fit linear regression\n",
    "    model = LinearRegression()\n",
    "    model.fit(x_train,df['microbusiness_density'])\n",
    "    p = model.predict(x_train)\n",
    "\n",
    "    # Compute train error\n",
    "    err = p - df['microbusiness_density'].values\n",
    "    rng = df['microbusiness_density'].max() - df['microbusiness_density'].min()\n",
    "    #print(f'Error: {err}\\nRange: {rng}')\n",
    "\n",
    "    # Determin if time series is linear or not\n",
    "    s = 0\n",
    "    for k in range(39):\n",
    "        e = np.abs(err[k])\n",
    "        #print(f'e : {e}')\n",
    "        r = e / rng # absolute error divided by range\n",
    "        #print(f'r: {r}')\n",
    "        s += r\n",
    "    mape.append(s) # Grab MAPE to compare with other data\n",
    "    #print(f's: {s}')\n",
    "    s = s/39 # now S is MAPE mean absolute percentage error\n",
    "    smape.append(s) \n",
    "    #print(f'Divide s by the number of data -> MAPE: {s}')\n",
    "\n",
    "    # Infer test data with linear regression\n",
    "    p2 = model.predict(x_test)\n",
    "    shift = last - p2[0]\n",
    "    if s <THRESHOLD: \n",
    "        preds = p2[1:]+shift\n",
    "        label = 0\n",
    "        lr_or_non_lr.append(label)\n",
    "        smape.append(s)\n",
    "        predict.append(preds)\n",
    "    else: \n",
    "        preds = [last]*8\n",
    "        label = 1\n",
    "        lr_or_non_lr.append(label)\n",
    "        smape.append(s)\n",
    "        predict.append(preds)\n",
    "\n",
    "count_lr = lr_or_non_lr.count(0)\n",
    "count_non_lr = lr_or_non_lr.count(1)\n",
    "print(f'The data predict with Linear Regression: {count_lr}')\n",
    "print(f'The data not predict with Linear Regression: {count_non_lr}')\n",
    "print(f'Model: {model}\\nMean SMAPE: {np.mean(smape)}\\nMin SMAPE: {np.min(smape)}\\nMax SMAPE: {np.max(smape)}\\nMean MAPE: {np.mean(mape)}')"
   ]
  },
  {
   "cell_type": "markdown",
   "id": "37be7c10",
   "metadata": {},
   "source": [
    "### Work on this for loop to get new MAPE with new training. Let's see if the total MAPE increase. \n",
    "\n",
    "Code above is the Renear regression training. "
   ]
  },
  {
   "cell_type": "code",
   "execution_count": 22,
   "id": "47193ff8",
   "metadata": {},
   "outputs": [
    {
     "data": {
      "text/html": [
       "<div>\n",
       "<style scoped>\n",
       "    .dataframe tbody tr th:only-of-type {\n",
       "        vertical-align: middle;\n",
       "    }\n",
       "\n",
       "    .dataframe tbody tr th {\n",
       "        vertical-align: top;\n",
       "    }\n",
       "\n",
       "    .dataframe thead th {\n",
       "        text-align: right;\n",
       "    }\n",
       "</style>\n",
       "<table border=\"1\" class=\"dataframe\">\n",
       "  <thead>\n",
       "    <tr style=\"text-align: right;\">\n",
       "      <th></th>\n",
       "      <th>MAPE</th>\n",
       "      <th>new_MAPE</th>\n",
       "    </tr>\n",
       "  </thead>\n",
       "  <tbody>\n",
       "    <tr>\n",
       "      <th>0</th>\n",
       "      <td>1.504614</td>\n",
       "      <td>1.504614</td>\n",
       "    </tr>\n",
       "    <tr>\n",
       "      <th>1</th>\n",
       "      <td>4.143341</td>\n",
       "      <td>4.143341</td>\n",
       "    </tr>\n",
       "    <tr>\n",
       "      <th>2</th>\n",
       "      <td>1.395184</td>\n",
       "      <td>1.395184</td>\n",
       "    </tr>\n",
       "    <tr>\n",
       "      <th>3</th>\n",
       "      <td>5.228748</td>\n",
       "      <td>5.228748</td>\n",
       "    </tr>\n",
       "    <tr>\n",
       "      <th>4</th>\n",
       "      <td>1.442244</td>\n",
       "      <td>1.442244</td>\n",
       "    </tr>\n",
       "    <tr>\n",
       "      <th>...</th>\n",
       "      <td>...</td>\n",
       "      <td>...</td>\n",
       "    </tr>\n",
       "    <tr>\n",
       "      <th>3130</th>\n",
       "      <td>8.937141</td>\n",
       "      <td>8.937141</td>\n",
       "    </tr>\n",
       "    <tr>\n",
       "      <th>3131</th>\n",
       "      <td>3.437833</td>\n",
       "      <td>3.437833</td>\n",
       "    </tr>\n",
       "    <tr>\n",
       "      <th>3132</th>\n",
       "      <td>4.339747</td>\n",
       "      <td>4.339747</td>\n",
       "    </tr>\n",
       "    <tr>\n",
       "      <th>3133</th>\n",
       "      <td>2.373714</td>\n",
       "      <td>2.373714</td>\n",
       "    </tr>\n",
       "    <tr>\n",
       "      <th>3134</th>\n",
       "      <td>1.285249</td>\n",
       "      <td>1.285249</td>\n",
       "    </tr>\n",
       "  </tbody>\n",
       "</table>\n",
       "<p>3135 rows × 2 columns</p>\n",
       "</div>"
      ],
      "text/plain": [
       "          MAPE  new_MAPE\n",
       "0     1.504614  1.504614\n",
       "1     4.143341  4.143341\n",
       "2     1.395184  1.395184\n",
       "3     5.228748  5.228748\n",
       "4     1.442244  1.442244\n",
       "...        ...       ...\n",
       "3130  8.937141  8.937141\n",
       "3131  3.437833  3.437833\n",
       "3132  4.339747  4.339747\n",
       "3133  2.373714  2.373714\n",
       "3134  1.285249  1.285249\n",
       "\n",
       "[3135 rows x 2 columns]"
      ]
     },
     "execution_count": 22,
     "metadata": {},
     "output_type": "execute_result"
    }
   ],
   "source": [
    "mape = []\n",
    "\n",
    "for i in range(len(data)):\n",
    "    c = data['Country'].iloc[i]\n",
    "    # If the cfips in the category 2, then train with linear regression and update MAPE\n",
    "    if c in cfips_category2:\n",
    "        \n",
    "        mape.append(data[\"MAPE\"].iloc[i])\n",
    "    # If category 1, keep the MAPE score\n",
    "    else:\n",
    "        mape.append(data['MAPE'].iloc[i])\n",
    "        \n",
    "data['new_MAPE'] = mape\n",
    "data[['MAPE', 'new_MAPE']]"
   ]
  },
  {
   "cell_type": "code",
   "execution_count": null,
   "id": "0e5ca8f5",
   "metadata": {},
   "outputs": [],
   "source": []
  }
 ],
 "metadata": {
  "kernelspec": {
   "display_name": "Python 3 (ipykernel)",
   "language": "python",
   "name": "python3"
  },
  "language_info": {
   "codemirror_mode": {
    "name": "ipython",
    "version": 3
   },
   "file_extension": ".py",
   "mimetype": "text/x-python",
   "name": "python",
   "nbconvert_exporter": "python",
   "pygments_lexer": "ipython3",
   "version": "3.9.12"
  }
 },
 "nbformat": 4,
 "nbformat_minor": 5
}
