{
 "cells": [
  {
   "cell_type": "markdown",
   "id": "2f595e2f",
   "metadata": {},
   "source": [
    "## Now I got the data for the results with Tensorflow dence layers. I categorized good MAPE result country and not good one. \n",
    "\n",
    "Now I will train category 2 with linear regression to get better MAPE results. "
   ]
  },
  {
   "cell_type": "markdown",
   "id": "7259b435",
   "metadata": {},
   "source": [
    "### Things to do:\n",
    "\n",
    "* Load result data with category. \n",
    "* Load train data. \n",
    "* Grab the cfips on category 2.\n",
    "* train with linear regression if the country incategory 2, then update MAPE. \n"
   ]
  },
  {
   "cell_type": "code",
   "execution_count": 28,
   "id": "dc167023",
   "metadata": {},
   "outputs": [],
   "source": [
    "import pandas as pd\n",
    "import numpy as np\n",
    "import matplotlib.pyplot as plt\n",
    "import seaborn as sns\n",
    "from sklearn.linear_model import LinearRegression\n",
    "from helper_functions import *"
   ]
  },
  {
   "cell_type": "code",
   "execution_count": 47,
   "id": "bb522cb5",
   "metadata": {},
   "outputs": [],
   "source": [
    "data = pd.read_csv(\"result_dense_with_category.csv\")\n",
    "train = pd.read_csv(\"train.csv\")"
   ]
  },
  {
   "cell_type": "code",
   "execution_count": 48,
   "id": "863cc2e7",
   "metadata": {},
   "outputs": [],
   "source": [
    "# Grab the cfips on category 2\n",
    "cfips_category1 = data[data['category'] == 1]['Country'].unique()"
   ]
  },
  {
   "cell_type": "code",
   "execution_count": 49,
   "id": "b3ba906a",
   "metadata": {},
   "outputs": [
    {
     "data": {
      "text/plain": [
       "609"
      ]
     },
     "execution_count": 49,
     "metadata": {},
     "output_type": "execute_result"
    }
   ],
   "source": [
    "len(cfips_category1)"
   ]
  },
  {
   "cell_type": "markdown",
   "id": "37be7c10",
   "metadata": {},
   "source": [
    "### Work on this for loop to get new MAPE with new training. Let's see if the total MAPE increase. \n",
    "\n",
    "Code above is the Renear regression training. "
   ]
  },
  {
   "cell_type": "code",
   "execution_count": 74,
   "id": "84da359f",
   "metadata": {},
   "outputs": [
    {
     "data": {
      "text/plain": [
       "'[3.3091352 3.3172703 3.3280153 3.3369312 3.3491817 3.3590963 3.3678777\\n 3.3871744]'"
      ]
     },
     "execution_count": 74,
     "metadata": {},
     "output_type": "execute_result"
    }
   ],
   "source": [
    "data['forecast'].iloc[0][11:-28]"
   ]
  },
  {
   "cell_type": "code",
   "execution_count": 26,
   "id": "b0f1000d",
   "metadata": {},
   "outputs": [
    {
     "data": {
      "text/plain": [
       "array([1005, 1009, 1061, 1069, 1077], dtype=int64)"
      ]
     },
     "execution_count": 26,
     "metadata": {},
     "output_type": "execute_result"
    }
   ],
   "source": [
    "cfips_category1[:5]"
   ]
  },
  {
   "cell_type": "code",
   "execution_count": 87,
   "id": "47193ff8",
   "metadata": {},
   "outputs": [
    {
     "name": "stdout",
     "output_type": "stream",
     "text": [
      "The data predict with Linear Regression: 348\n",
      "The data not predict with Linear Regression: 2178\n",
      "Model: LinearRegression()\n",
      "Mean SMAPE: 0.1621980590423406\n",
      "Min SMAPE: 0.025774969877374484\n",
      "Max SMAPE: 0.34610839978243374\n"
     ]
    },
    {
     "data": {
      "text/html": [
       "<div>\n",
       "<style scoped>\n",
       "    .dataframe tbody tr th:only-of-type {\n",
       "        vertical-align: middle;\n",
       "    }\n",
       "\n",
       "    .dataframe tbody tr th {\n",
       "        vertical-align: top;\n",
       "    }\n",
       "\n",
       "    .dataframe thead th {\n",
       "        text-align: right;\n",
       "    }\n",
       "</style>\n",
       "<table border=\"1\" class=\"dataframe\">\n",
       "  <thead>\n",
       "    <tr style=\"text-align: right;\">\n",
       "      <th></th>\n",
       "      <th>MAPE</th>\n",
       "      <th>new_MAPE</th>\n",
       "    </tr>\n",
       "  </thead>\n",
       "  <tbody>\n",
       "    <tr>\n",
       "      <th>0</th>\n",
       "      <td>1.504614</td>\n",
       "      <td>3.881166</td>\n",
       "    </tr>\n",
       "    <tr>\n",
       "      <th>1</th>\n",
       "      <td>4.143341</td>\n",
       "      <td>2.712604</td>\n",
       "    </tr>\n",
       "    <tr>\n",
       "      <th>2</th>\n",
       "      <td>1.395184</td>\n",
       "      <td>1.395184</td>\n",
       "    </tr>\n",
       "    <tr>\n",
       "      <th>3</th>\n",
       "      <td>5.228748</td>\n",
       "      <td>1.755025</td>\n",
       "    </tr>\n",
       "    <tr>\n",
       "      <th>4</th>\n",
       "      <td>1.442244</td>\n",
       "      <td>1.442244</td>\n",
       "    </tr>\n",
       "    <tr>\n",
       "      <th>...</th>\n",
       "      <td>...</td>\n",
       "      <td>...</td>\n",
       "    </tr>\n",
       "    <tr>\n",
       "      <th>3130</th>\n",
       "      <td>8.937141</td>\n",
       "      <td>0.594611</td>\n",
       "    </tr>\n",
       "    <tr>\n",
       "      <th>3131</th>\n",
       "      <td>3.437833</td>\n",
       "      <td>1.642972</td>\n",
       "    </tr>\n",
       "    <tr>\n",
       "      <th>3132</th>\n",
       "      <td>4.339747</td>\n",
       "      <td>1.179851</td>\n",
       "    </tr>\n",
       "    <tr>\n",
       "      <th>3133</th>\n",
       "      <td>2.373714</td>\n",
       "      <td>2.907186</td>\n",
       "    </tr>\n",
       "    <tr>\n",
       "      <th>3134</th>\n",
       "      <td>1.285249</td>\n",
       "      <td>1.285249</td>\n",
       "    </tr>\n",
       "  </tbody>\n",
       "</table>\n",
       "<p>3135 rows × 2 columns</p>\n",
       "</div>"
      ],
      "text/plain": [
       "          MAPE  new_MAPE\n",
       "0     1.504614  3.881166\n",
       "1     4.143341  2.712604\n",
       "2     1.395184  1.395184\n",
       "3     5.228748  1.755025\n",
       "4     1.442244  1.442244\n",
       "...        ...       ...\n",
       "3130  8.937141  0.594611\n",
       "3131  3.437833  1.642972\n",
       "3132  4.339747  1.179851\n",
       "3133  2.373714  2.907186\n",
       "3134  1.285249  1.285249\n",
       "\n",
       "[3135 rows x 2 columns]"
      ]
     },
     "execution_count": 87,
     "metadata": {},
     "output_type": "execute_result"
    }
   ],
   "source": [
    "THRESHOLD = 0.103\n",
    "\n",
    "IDS = train.cfips.unique()\n",
    "x_train = np.arange(39).reshape((-1,1))\n",
    "x_test = np.arange(38,47).reshape((-1,1))\n",
    "\n",
    "# Based on the Chris's rule, SMAPE > THRESHOLD -> Use linear regrssion \n",
    "lr_or_non_lr = []  # If use linear regression, label as 1, if not label as 0\n",
    "smape = []\n",
    "mape = []\n",
    "new_predict = []\n",
    "\n",
    "for cfips in IDS:\n",
    "    c = cfips\n",
    "\n",
    "\n",
    "    # If the cfips in the category 2, then train with linear regression and update MAPE\n",
    "    if c in cfips_category1:\n",
    "        \n",
    "        mape.append(np.float64(data[data['Country'] == c][\"MAPE\"]))\n",
    "        new_predict.append(data[data['Country'] == c]['forecast'])\n",
    "    # If category 1, keep the MAPE score\n",
    "    else:\n",
    "        df = train.loc[train['cfips'] == c]\n",
    "        last = df['microbusiness_density'].values[-1]\n",
    "\n",
    "        # Fit linear regression\n",
    "        model = LinearRegression()\n",
    "        model.fit(x_train,df['microbusiness_density'])\n",
    "        p = model.predict(x_train)\n",
    "\n",
    "        # Compute train error\n",
    "        err = p - df['microbusiness_density'].values\n",
    "        rng = df['microbusiness_density'].max() - df['microbusiness_density'].min()\n",
    "        #print(f'Error: {err}\\nRange: {rng}')\n",
    "\n",
    "        # Determin if time series is linear or not\n",
    "        s = 0\n",
    "        for k in range(39):\n",
    "            e = np.abs(err[k])\n",
    "            #print(f'e : {e}')\n",
    "            r = e / rng # absolute error divided by range\n",
    "            #print(f'r: {r}')\n",
    "            s += r\n",
    "        #mape.append(s) # Grab MAPE to compare with other data\n",
    "        #print(f's: {s}')\n",
    "        s = s/39 # now S is MAPE mean absolute percentage error\n",
    "        smape.append(s) \n",
    "        #print(f'Divide s by the number of data -> MAPE: {s}')\n",
    "\n",
    "        # Infer test data with linear regression\n",
    "        p2 = model.predict(x_test)\n",
    "        shift = last - p2[0]\n",
    "        if s <THRESHOLD: \n",
    "            preds = p2[1:]+shift\n",
    "            label = 0\n",
    "            lr_or_non_lr.append(label)\n",
    "            test_label = np.expand_dims(np.array(train[train['cfips'] == c]['microbusiness_density'][31:39]), axis=0)\n",
    "            results = evaluate_preds(test_label, preds)\n",
    "            m = results['mape']\n",
    "            predict.append(preds)\n",
    "            mape.append(m)\n",
    "            new_predict.append(preds)\n",
    "        else: \n",
    "            preds = [last]*8\n",
    "            label = 1\n",
    "            lr_or_non_lr.append(label)\n",
    "            test_label = np.expand_dims(np.array(train[train['cfips'] == c]['microbusiness_density'][31:39]), axis=0)\n",
    "            results = evaluate_preds(test_label, preds)\n",
    "            m = results['mape']\n",
    "            predict.append(preds)\n",
    "            mape.append(m)\n",
    "            new_predict.append(preds)\n",
    "\n",
    "count_lr = lr_or_non_lr.count(0)\n",
    "count_non_lr = lr_or_non_lr.count(1)\n",
    "print(f'The data predict with Linear Regression: {count_lr}')\n",
    "print(f'The data not predict with Linear Regression: {count_non_lr}')\n",
    "print(f'Model: {model}\\nMean SMAPE: {np.mean(smape)}\\nMin SMAPE: {np.min(smape)}\\nMax SMAPE: {np.max(smape)}')\n",
    "                \n",
    "        \n",
    "data['new_MAPE'] = mape\n",
    "data['new_predict'] = new_predict\n",
    "data[['MAPE', 'new_MAPE']]"
   ]
  },
  {
   "cell_type": "markdown",
   "id": "940ca0ce",
   "metadata": {},
   "source": [
    "#### Check how many MAPE incresed"
   ]
  },
  {
   "cell_type": "code",
   "execution_count": 88,
   "id": "623d54da",
   "metadata": {},
   "outputs": [
    {
     "name": "stdout",
     "output_type": "stream",
     "text": [
      "Old Mean MAPE: 27.99670683904312\n",
      "New Mean MAPE: 3.229799900521621\n"
     ]
    }
   ],
   "source": [
    "print(f\"Old Mean MAPE: {data['MAPE'].mean()}\\nNew Mean MAPE: {data['new_MAPE'].mean()}\")"
   ]
  },
  {
   "cell_type": "code",
   "execution_count": 95,
   "id": "0312cb3b",
   "metadata": {},
   "outputs": [
    {
     "name": "stdout",
     "output_type": "stream",
     "text": [
      "MAPE Increased: 1959\n",
      "MAPE Decreased: 567\n",
      "Unchanged: 609\n"
     ]
    }
   ],
   "source": [
    "increased = 0\n",
    "unchanged = 0\n",
    "decreased = 0\n",
    "for i in range(len(data)):\n",
    "    if data['MAPE'].iloc[i] > data['new_MAPE'].iloc[i]:\n",
    "        increased += 1\n",
    "    elif data['MAPE'].iloc[i] < data['new_MAPE'].iloc[i]:\n",
    "        decreased += 1\n",
    "    else:\n",
    "        unchanged += 1\n",
    "print(f\"MAPE Increased: {increased}\\nMAPE Decreased: {decreased}\\nUnchanged: {unchanged}\")"
   ]
  },
  {
   "cell_type": "markdown",
   "id": "a2f3b2bd",
   "metadata": {},
   "source": [
    "## Conclusion:\n",
    "\n",
    "MAPE Increased significantly by using Linear Regression with the SMAPE < 1.03, and use the last microbusiness density value for the SMAPE larger than 1.03 with the Country I categorised 2 after I trained on tensorflow Dense layer result. See if this model will increase submission. \n",
    "\n",
    "* Train full data on Tensorflow Dense model for the category 1. \n",
    "* Train full data on Linea Regression on category 2. \n"
   ]
  },
  {
   "cell_type": "code",
   "execution_count": 89,
   "id": "ec7c7045",
   "metadata": {},
   "outputs": [],
   "source": [
    "data.to_csv(\"result_after_LR.csv\", index=False)"
   ]
  },
  {
   "cell_type": "code",
   "execution_count": 90,
   "id": "eb862450",
   "metadata": {},
   "outputs": [],
   "source": [
    "d = pd.read_csv(\"result_after_LR.csv\")"
   ]
  },
  {
   "cell_type": "code",
   "execution_count": 91,
   "id": "c8a3bd7d",
   "metadata": {},
   "outputs": [
    {
     "data": {
      "text/html": [
       "<div>\n",
       "<style scoped>\n",
       "    .dataframe tbody tr th:only-of-type {\n",
       "        vertical-align: middle;\n",
       "    }\n",
       "\n",
       "    .dataframe tbody tr th {\n",
       "        vertical-align: top;\n",
       "    }\n",
       "\n",
       "    .dataframe thead th {\n",
       "        text-align: right;\n",
       "    }\n",
       "</style>\n",
       "<table border=\"1\" class=\"dataframe\">\n",
       "  <thead>\n",
       "    <tr style=\"text-align: right;\">\n",
       "      <th></th>\n",
       "      <th>Country</th>\n",
       "      <th>MAPE</th>\n",
       "      <th>Density</th>\n",
       "      <th>Active</th>\n",
       "      <th>forecast</th>\n",
       "      <th>category</th>\n",
       "      <th>new_MAPE</th>\n",
       "      <th>new_predict</th>\n",
       "    </tr>\n",
       "  </thead>\n",
       "  <tbody>\n",
       "    <tr>\n",
       "      <th>0</th>\n",
       "      <td>1001</td>\n",
       "      <td>1.504614</td>\n",
       "      <td>3.463856</td>\n",
       "      <td>1472</td>\n",
       "      <td>tf.Tensor(\\n[3.3091352 3.3172703 3.3280153 3.3...</td>\n",
       "      <td>2</td>\n",
       "      <td>3.881166</td>\n",
       "      <td>[3.47705964 3.49026379 3.50346793 3.51667207 3...</td>\n",
       "    </tr>\n",
       "    <tr>\n",
       "      <th>1</th>\n",
       "      <td>1003</td>\n",
       "      <td>4.143341</td>\n",
       "      <td>8.359798</td>\n",
       "      <td>14320</td>\n",
       "      <td>tf.Tensor(\\n[7.858338  7.8851886 7.9074492 7.9...</td>\n",
       "      <td>2</td>\n",
       "      <td>2.712604</td>\n",
       "      <td>[8.3597984, 8.3597984, 8.3597984, 8.3597984, 8...</td>\n",
       "    </tr>\n",
       "    <tr>\n",
       "      <th>2</th>\n",
       "      <td>1005</td>\n",
       "      <td>1.395184</td>\n",
       "      <td>1.232074</td>\n",
       "      <td>244</td>\n",
       "      <td>tf.Tensor(\\n[1.1614107 1.1651304 1.1701925 1.1...</td>\n",
       "      <td>1</td>\n",
       "      <td>1.395184</td>\n",
       "      <td>2    tf.Tensor(\\n[1.1614107 1.1651304 1.170192...</td>\n",
       "    </tr>\n",
       "    <tr>\n",
       "      <th>3</th>\n",
       "      <td>1007</td>\n",
       "      <td>5.228748</td>\n",
       "      <td>1.287240</td>\n",
       "      <td>229</td>\n",
       "      <td>tf.Tensor(\\n[1.222997  1.2201089 1.2209381 1.2...</td>\n",
       "      <td>2</td>\n",
       "      <td>1.755025</td>\n",
       "      <td>[1.28724, 1.28724, 1.28724, 1.28724, 1.28724, ...</td>\n",
       "    </tr>\n",
       "    <tr>\n",
       "      <th>4</th>\n",
       "      <td>1009</td>\n",
       "      <td>1.442244</td>\n",
       "      <td>1.831783</td>\n",
       "      <td>813</td>\n",
       "      <td>tf.Tensor(\\n[1.7523701 1.7636061 1.7706515 1.7...</td>\n",
       "      <td>1</td>\n",
       "      <td>1.442244</td>\n",
       "      <td>4    tf.Tensor(\\n[1.7523701 1.7636061 1.770651...</td>\n",
       "    </tr>\n",
       "  </tbody>\n",
       "</table>\n",
       "</div>"
      ],
      "text/plain": [
       "   Country      MAPE   Density  Active  \\\n",
       "0     1001  1.504614  3.463856    1472   \n",
       "1     1003  4.143341  8.359798   14320   \n",
       "2     1005  1.395184  1.232074     244   \n",
       "3     1007  5.228748  1.287240     229   \n",
       "4     1009  1.442244  1.831783     813   \n",
       "\n",
       "                                            forecast  category  new_MAPE  \\\n",
       "0  tf.Tensor(\\n[3.3091352 3.3172703 3.3280153 3.3...         2  3.881166   \n",
       "1  tf.Tensor(\\n[7.858338  7.8851886 7.9074492 7.9...         2  2.712604   \n",
       "2  tf.Tensor(\\n[1.1614107 1.1651304 1.1701925 1.1...         1  1.395184   \n",
       "3  tf.Tensor(\\n[1.222997  1.2201089 1.2209381 1.2...         2  1.755025   \n",
       "4  tf.Tensor(\\n[1.7523701 1.7636061 1.7706515 1.7...         1  1.442244   \n",
       "\n",
       "                                         new_predict  \n",
       "0  [3.47705964 3.49026379 3.50346793 3.51667207 3...  \n",
       "1  [8.3597984, 8.3597984, 8.3597984, 8.3597984, 8...  \n",
       "2  2    tf.Tensor(\\n[1.1614107 1.1651304 1.170192...  \n",
       "3  [1.28724, 1.28724, 1.28724, 1.28724, 1.28724, ...  \n",
       "4  4    tf.Tensor(\\n[1.7523701 1.7636061 1.770651...  "
      ]
     },
     "execution_count": 91,
     "metadata": {},
     "output_type": "execute_result"
    }
   ],
   "source": [
    "d.head()"
   ]
  },
  {
   "cell_type": "code",
   "execution_count": null,
   "id": "5585dbf2",
   "metadata": {},
   "outputs": [],
   "source": []
  }
 ],
 "metadata": {
  "kernelspec": {
   "display_name": "Python 3 (ipykernel)",
   "language": "python",
   "name": "python3"
  },
  "language_info": {
   "codemirror_mode": {
    "name": "ipython",
    "version": 3
   },
   "file_extension": ".py",
   "mimetype": "text/x-python",
   "name": "python",
   "nbconvert_exporter": "python",
   "pygments_lexer": "ipython3",
   "version": "3.9.12"
  }
 },
 "nbformat": 4,
 "nbformat_minor": 5
}
